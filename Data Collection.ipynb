{
 "cells": [
  {
   "cell_type": "code",
   "execution_count": 10,
   "id": "initial_id",
   "metadata": {
    "ExecuteTime": {
     "end_time": "2024-04-16T12:57:51.813718Z",
     "start_time": "2024-04-16T12:57:51.809343Z"
    }
   },
   "outputs": [],
   "source": [
    "import pandas as pd\n",
    "\n",
    "# Create date ranges to get the seasons\n",
    "dates = pd.date_range(start='1/1/2018', end='5/31/2023', freq='YS')"
   ]
  },
  {
   "cell_type": "code",
   "execution_count": 11,
   "id": "4723e6ec880e2b0c",
   "metadata": {
    "ExecuteTime": {
     "end_time": "2024-04-16T13:01:44.065580Z",
     "start_time": "2024-04-16T13:01:41.977770Z"
    }
   },
   "outputs": [
    {
     "name": "stdout",
     "output_type": "stream",
     "text": [
      "2018-2019\n",
      "2019-2020\n",
      "2020-2021\n",
      "2021-2022\n",
      "2022-2023\n",
      "2023-2024\n"
     ]
    }
   ],
   "source": [
    "all_dfs = [] # List to hold all DataFrames\n",
    "\n",
    "\n",
    "for date in dates:\n",
    "    season_start = date.year\n",
    "    season_end = date.year + 1\n",
    "    season = f'{season_start}-{season_end}'\n",
    "    print(season)\n",
    "    df = pd.read_html(f'https://fbref.com/en/comps/12/{season}/schedule/{season}-La-Liga-Scores-and-Fixtures', attrs={\"id\": f\"sched_{season}_12_1\"})[0]\n",
    "    all_dfs.append(df)\n",
    "    \n",
    "    df2 = pd.read_html(f'https://fbref.com/en/comps/9/{season}/schedule/{season}-Premier-League-Scores-and-Fixtures', attrs={\"id\": f\"sched_{season}_9_1\"})[0]\n",
    "    all_dfs.append(df2)"
   ]
  },
  {
   "cell_type": "code",
   "execution_count": 12,
   "id": "73eafbb0e47f7181",
   "metadata": {
    "ExecuteTime": {
     "end_time": "2024-04-16T13:01:50.434760Z",
     "start_time": "2024-04-16T13:01:50.431131Z"
    }
   },
   "outputs": [],
   "source": [
    "df = pd.concat(all_dfs)"
   ]
  },
  {
   "cell_type": "code",
   "execution_count": 13,
   "id": "4f332e035293d81b",
   "metadata": {
    "ExecuteTime": {
     "end_time": "2024-04-16T13:02:46.012442Z",
     "start_time": "2024-04-16T13:02:46.007671Z"
    }
   },
   "outputs": [],
   "source": [
    "df = df.dropna(subset=['Wk'])"
   ]
  },
  {
   "cell_type": "code",
   "execution_count": 14,
   "id": "3e3c125dc27d886b",
   "metadata": {
    "ExecuteTime": {
     "end_time": "2024-04-16T13:04:37.698784Z",
     "start_time": "2024-04-16T13:04:37.695636Z"
    }
   },
   "outputs": [
    {
     "data": {
      "text/plain": [
       "Index(['Wk', 'Day', 'Date', 'Time', 'Home', 'xG', 'Score', 'xG.1', 'Away',\n",
       "       'Attendance', 'Venue', 'Referee', 'Match Report', 'Notes'],\n",
       "      dtype='object')"
      ]
     },
     "execution_count": 14,
     "metadata": {},
     "output_type": "execute_result"
    }
   ],
   "source": [
    "df.columns"
   ]
  },
  {
   "cell_type": "code",
   "execution_count": 15,
   "id": "af60855da9c020da",
   "metadata": {
    "ExecuteTime": {
     "end_time": "2024-04-16T13:04:58.172846Z",
     "start_time": "2024-04-16T13:04:58.166603Z"
    }
   },
   "outputs": [],
   "source": [
    "df.drop(columns=['Match Report', 'Notes'], inplace=True)"
   ]
  },
  {
   "cell_type": "code",
   "execution_count": 16,
   "id": "20ed65bcea8550de",
   "metadata": {
    "ExecuteTime": {
     "end_time": "2024-04-16T13:05:38.821055Z",
     "start_time": "2024-04-16T13:05:38.797099Z"
    }
   },
   "outputs": [],
   "source": [
    "df.to_csv('prediction.csv', index=False)"
   ]
  },
  {
   "cell_type": "code",
   "execution_count": null,
   "id": "939f62f3",
   "metadata": {},
   "outputs": [],
   "source": []
  }
 ],
 "metadata": {
  "kernelspec": {
   "display_name": "Python 3 (ipykernel)",
   "language": "python",
   "name": "python3"
  },
  "language_info": {
   "codemirror_mode": {
    "name": "ipython",
    "version": 3
   },
   "file_extension": ".py",
   "mimetype": "text/x-python",
   "name": "python",
   "nbconvert_exporter": "python",
   "pygments_lexer": "ipython3",
   "version": "3.11.5"
  }
 },
 "nbformat": 4,
 "nbformat_minor": 5
}
