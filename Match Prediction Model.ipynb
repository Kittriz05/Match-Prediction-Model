{
 "cells": [
  {
   "cell_type": "markdown",
   "id": "a5f12b3e941a73c5",
   "metadata": {
    "jupyter": {
     "outputs_hidden": false
    }
   },
   "source": []
  },
  {
   "cell_type": "code",
   "execution_count": 70,
   "id": "c888b739f46ac8a9",
   "metadata": {
    "ExecuteTime": {
     "end_time": "2024-04-18T13:16:57.200101Z",
     "start_time": "2024-04-18T13:16:57.197238Z"
    },
    "jupyter": {
     "outputs_hidden": false
    }
   },
   "outputs": [],
   "source": [
    "import pandas as pd\n",
    "\n",
    "import warnings\n",
    "warnings.filterwarnings('ignore')"
   ]
  },
  {
   "cell_type": "code",
   "execution_count": 71,
   "id": "8e7ad839287c998d",
   "metadata": {
    "ExecuteTime": {
     "end_time": "2024-04-18T13:16:57.906718Z",
     "start_time": "2024-04-18T13:16:57.871942Z"
    },
    "jupyter": {
     "outputs_hidden": false
    }
   },
   "outputs": [],
   "source": [
    "df = pd.read_csv('prediction.csv')"
   ]
  },
  {
   "cell_type": "code",
   "execution_count": 72,
   "id": "dd503e8996032e1f",
   "metadata": {
    "ExecuteTime": {
     "end_time": "2024-04-18T13:16:58.567745Z",
     "start_time": "2024-04-18T13:16:58.545088Z"
    },
    "jupyter": {
     "outputs_hidden": false
    }
   },
   "outputs": [
    {
     "data": {
      "text/html": [
       "<div>\n",
       "<style scoped>\n",
       "    .dataframe tbody tr th:only-of-type {\n",
       "        vertical-align: middle;\n",
       "    }\n",
       "\n",
       "    .dataframe tbody tr th {\n",
       "        vertical-align: top;\n",
       "    }\n",
       "\n",
       "    .dataframe thead th {\n",
       "        text-align: right;\n",
       "    }\n",
       "</style>\n",
       "<table border=\"1\" class=\"dataframe\">\n",
       "  <thead>\n",
       "    <tr style=\"text-align: right;\">\n",
       "      <th></th>\n",
       "      <th>Wk</th>\n",
       "      <th>Day</th>\n",
       "      <th>Date</th>\n",
       "      <th>Time</th>\n",
       "      <th>Home</th>\n",
       "      <th>xG</th>\n",
       "      <th>Score</th>\n",
       "      <th>xG.1</th>\n",
       "      <th>Away</th>\n",
       "      <th>Attendance</th>\n",
       "      <th>Venue</th>\n",
       "      <th>Referee</th>\n",
       "    </tr>\n",
       "  </thead>\n",
       "  <tbody>\n",
       "    <tr>\n",
       "      <th>0</th>\n",
       "      <td>1.0</td>\n",
       "      <td>Fri</td>\n",
       "      <td>2018-08-17</td>\n",
       "      <td>20:15</td>\n",
       "      <td>Girona</td>\n",
       "      <td>0.7</td>\n",
       "      <td>0–0</td>\n",
       "      <td>0.0</td>\n",
       "      <td>Valladolid</td>\n",
       "      <td>10368.0</td>\n",
       "      <td>Estadi Municipal de Montilivi</td>\n",
       "      <td>Guillermo Cuadra</td>\n",
       "    </tr>\n",
       "    <tr>\n",
       "      <th>1</th>\n",
       "      <td>1.0</td>\n",
       "      <td>Fri</td>\n",
       "      <td>2018-08-17</td>\n",
       "      <td>22:15</td>\n",
       "      <td>Betis</td>\n",
       "      <td>0.9</td>\n",
       "      <td>0–3</td>\n",
       "      <td>2.5</td>\n",
       "      <td>Levante</td>\n",
       "      <td>46225.0</td>\n",
       "      <td>Estadio Benito Villamarín</td>\n",
       "      <td>Ignacio Iglesias</td>\n",
       "    </tr>\n",
       "    <tr>\n",
       "      <th>2</th>\n",
       "      <td>1.0</td>\n",
       "      <td>Sat</td>\n",
       "      <td>2018-08-18</td>\n",
       "      <td>18:15</td>\n",
       "      <td>Celta Vigo</td>\n",
       "      <td>0.6</td>\n",
       "      <td>1–1</td>\n",
       "      <td>0.6</td>\n",
       "      <td>Espanyol</td>\n",
       "      <td>16215.0</td>\n",
       "      <td>Estadio de Balaídos</td>\n",
       "      <td>Santiago Jaime</td>\n",
       "    </tr>\n",
       "    <tr>\n",
       "      <th>3</th>\n",
       "      <td>1.0</td>\n",
       "      <td>Sat</td>\n",
       "      <td>2018-08-18</td>\n",
       "      <td>20:15</td>\n",
       "      <td>Villarreal</td>\n",
       "      <td>1.6</td>\n",
       "      <td>1–2</td>\n",
       "      <td>0.7</td>\n",
       "      <td>Real Sociedad</td>\n",
       "      <td>16250.0</td>\n",
       "      <td>Estadio de la Cerámica</td>\n",
       "      <td>Mario Melero</td>\n",
       "    </tr>\n",
       "    <tr>\n",
       "      <th>4</th>\n",
       "      <td>1.0</td>\n",
       "      <td>Sat</td>\n",
       "      <td>2018-08-18</td>\n",
       "      <td>22:15</td>\n",
       "      <td>Barcelona</td>\n",
       "      <td>3.2</td>\n",
       "      <td>3–0</td>\n",
       "      <td>0.3</td>\n",
       "      <td>Alavés</td>\n",
       "      <td>52356.0</td>\n",
       "      <td>Camp Nou</td>\n",
       "      <td>José Sánchez</td>\n",
       "    </tr>\n",
       "  </tbody>\n",
       "</table>\n",
       "</div>"
      ],
      "text/plain": [
       "    Wk  Day        Date   Time        Home   xG Score  xG.1           Away  \\\n",
       "0  1.0  Fri  2018-08-17  20:15      Girona  0.7   0–0   0.0     Valladolid   \n",
       "1  1.0  Fri  2018-08-17  22:15       Betis  0.9   0–3   2.5        Levante   \n",
       "2  1.0  Sat  2018-08-18  18:15  Celta Vigo  0.6   1–1   0.6       Espanyol   \n",
       "3  1.0  Sat  2018-08-18  20:15  Villarreal  1.6   1–2   0.7  Real Sociedad   \n",
       "4  1.0  Sat  2018-08-18  22:15   Barcelona  3.2   3–0   0.3         Alavés   \n",
       "\n",
       "   Attendance                          Venue           Referee  \n",
       "0     10368.0  Estadi Municipal de Montilivi  Guillermo Cuadra  \n",
       "1     46225.0      Estadio Benito Villamarín  Ignacio Iglesias  \n",
       "2     16215.0            Estadio de Balaídos    Santiago Jaime  \n",
       "3     16250.0         Estadio de la Cerámica      Mario Melero  \n",
       "4     52356.0                       Camp Nou      José Sánchez  "
      ]
     },
     "execution_count": 72,
     "metadata": {},
     "output_type": "execute_result"
    }
   ],
   "source": [
    "df.head()"
   ]
  },
  {
   "cell_type": "code",
   "execution_count": 73,
   "id": "d34c5f9591af05a",
   "metadata": {
    "ExecuteTime": {
     "end_time": "2024-04-18T12:47:47.497700Z",
     "start_time": "2024-04-18T12:47:47.479013Z"
    },
    "jupyter": {
     "outputs_hidden": false
    }
   },
   "outputs": [
    {
     "data": {
      "text/html": [
       "<div>\n",
       "<style scoped>\n",
       "    .dataframe tbody tr th:only-of-type {\n",
       "        vertical-align: middle;\n",
       "    }\n",
       "\n",
       "    .dataframe tbody tr th {\n",
       "        vertical-align: top;\n",
       "    }\n",
       "\n",
       "    .dataframe thead th {\n",
       "        text-align: right;\n",
       "    }\n",
       "</style>\n",
       "<table border=\"1\" class=\"dataframe\">\n",
       "  <thead>\n",
       "    <tr style=\"text-align: right;\">\n",
       "      <th></th>\n",
       "      <th>Wk</th>\n",
       "      <th>Day</th>\n",
       "      <th>Date</th>\n",
       "      <th>Time</th>\n",
       "      <th>Home</th>\n",
       "      <th>xG</th>\n",
       "      <th>Score</th>\n",
       "      <th>xG.1</th>\n",
       "      <th>Away</th>\n",
       "      <th>Attendance</th>\n",
       "      <th>Venue</th>\n",
       "      <th>Referee</th>\n",
       "    </tr>\n",
       "  </thead>\n",
       "  <tbody>\n",
       "    <tr>\n",
       "      <th>1029</th>\n",
       "      <td>24.0</td>\n",
       "      <td>Tue</td>\n",
       "      <td>2020-03-10</td>\n",
       "      <td>20:00</td>\n",
       "      <td>Eibar</td>\n",
       "      <td>2.0</td>\n",
       "      <td>1–2</td>\n",
       "      <td>1.2</td>\n",
       "      <td>Real Sociedad</td>\n",
       "      <td>NaN</td>\n",
       "      <td>Estadio Municipal de Ipurúa</td>\n",
       "      <td>David Medié</td>\n",
       "    </tr>\n",
       "    <tr>\n",
       "      <th>1030</th>\n",
       "      <td>28.0</td>\n",
       "      <td>Thu</td>\n",
       "      <td>2020-06-11</td>\n",
       "      <td>22:00</td>\n",
       "      <td>Sevilla</td>\n",
       "      <td>1.7</td>\n",
       "      <td>2–0</td>\n",
       "      <td>0.5</td>\n",
       "      <td>Betis</td>\n",
       "      <td>NaN</td>\n",
       "      <td>Estadio Ramón Sánchez Pizjuán</td>\n",
       "      <td>Antonio Matéu Lahoz</td>\n",
       "    </tr>\n",
       "    <tr>\n",
       "      <th>1031</th>\n",
       "      <td>28.0</td>\n",
       "      <td>Fri</td>\n",
       "      <td>2020-06-12</td>\n",
       "      <td>19:30</td>\n",
       "      <td>Granada</td>\n",
       "      <td>2.3</td>\n",
       "      <td>2–1</td>\n",
       "      <td>0.6</td>\n",
       "      <td>Getafe</td>\n",
       "      <td>NaN</td>\n",
       "      <td>Estadio Nuevo Los Cármenes</td>\n",
       "      <td>David Medié</td>\n",
       "    </tr>\n",
       "    <tr>\n",
       "      <th>1032</th>\n",
       "      <td>28.0</td>\n",
       "      <td>Fri</td>\n",
       "      <td>2020-06-12</td>\n",
       "      <td>22:00</td>\n",
       "      <td>Valencia</td>\n",
       "      <td>1.0</td>\n",
       "      <td>1–1</td>\n",
       "      <td>1.4</td>\n",
       "      <td>Levante</td>\n",
       "      <td>NaN</td>\n",
       "      <td>Estadio de Mestalla</td>\n",
       "      <td>Hsu Jason</td>\n",
       "    </tr>\n",
       "    <tr>\n",
       "      <th>1033</th>\n",
       "      <td>28.0</td>\n",
       "      <td>Sat</td>\n",
       "      <td>2020-06-13</td>\n",
       "      <td>14:00</td>\n",
       "      <td>Espanyol</td>\n",
       "      <td>2.5</td>\n",
       "      <td>2–0</td>\n",
       "      <td>0.1</td>\n",
       "      <td>Alavés</td>\n",
       "      <td>NaN</td>\n",
       "      <td>RCDE Stadium</td>\n",
       "      <td>Pablo González</td>\n",
       "    </tr>\n",
       "    <tr>\n",
       "      <th>...</th>\n",
       "      <td>...</td>\n",
       "      <td>...</td>\n",
       "      <td>...</td>\n",
       "      <td>...</td>\n",
       "      <td>...</td>\n",
       "      <td>...</td>\n",
       "      <td>...</td>\n",
       "      <td>...</td>\n",
       "      <td>...</td>\n",
       "      <td>...</td>\n",
       "      <td>...</td>\n",
       "      <td>...</td>\n",
       "    </tr>\n",
       "    <tr>\n",
       "      <th>2256</th>\n",
       "      <td>36.0</td>\n",
       "      <td>Sun</td>\n",
       "      <td>2021-05-16</td>\n",
       "      <td>12:00</td>\n",
       "      <td>Crystal Palace</td>\n",
       "      <td>1.9</td>\n",
       "      <td>3–2</td>\n",
       "      <td>1.4</td>\n",
       "      <td>Aston Villa</td>\n",
       "      <td>NaN</td>\n",
       "      <td>Selhurst Park</td>\n",
       "      <td>David Coote</td>\n",
       "    </tr>\n",
       "    <tr>\n",
       "      <th>2257</th>\n",
       "      <td>36.0</td>\n",
       "      <td>Sun</td>\n",
       "      <td>2021-05-16</td>\n",
       "      <td>14:05</td>\n",
       "      <td>Tottenham</td>\n",
       "      <td>3.2</td>\n",
       "      <td>2–0</td>\n",
       "      <td>0.9</td>\n",
       "      <td>Wolves</td>\n",
       "      <td>NaN</td>\n",
       "      <td>Tottenham Hotspur Stadium</td>\n",
       "      <td>Martin Atkinson</td>\n",
       "    </tr>\n",
       "    <tr>\n",
       "      <th>2258</th>\n",
       "      <td>36.0</td>\n",
       "      <td>Sun</td>\n",
       "      <td>2021-05-16</td>\n",
       "      <td>16:30</td>\n",
       "      <td>West Brom</td>\n",
       "      <td>1.0</td>\n",
       "      <td>1–2</td>\n",
       "      <td>1.9</td>\n",
       "      <td>Liverpool</td>\n",
       "      <td>NaN</td>\n",
       "      <td>The Hawthorns</td>\n",
       "      <td>Mike Dean</td>\n",
       "    </tr>\n",
       "    <tr>\n",
       "      <th>2259</th>\n",
       "      <td>36.0</td>\n",
       "      <td>Sun</td>\n",
       "      <td>2021-05-16</td>\n",
       "      <td>19:00</td>\n",
       "      <td>Everton</td>\n",
       "      <td>1.4</td>\n",
       "      <td>0–1</td>\n",
       "      <td>1.2</td>\n",
       "      <td>Sheffield Utd</td>\n",
       "      <td>NaN</td>\n",
       "      <td>Goodison Park</td>\n",
       "      <td>Jonathan Moss</td>\n",
       "    </tr>\n",
       "    <tr>\n",
       "      <th>3797</th>\n",
       "      <td>38.0</td>\n",
       "      <td>Sun</td>\n",
       "      <td>2023-05-28</td>\n",
       "      <td>16:30</td>\n",
       "      <td>Aston Villa</td>\n",
       "      <td>2.8</td>\n",
       "      <td>2–1</td>\n",
       "      <td>1.4</td>\n",
       "      <td>Brighton</td>\n",
       "      <td>NaN</td>\n",
       "      <td>Villa Park</td>\n",
       "      <td>David Coote</td>\n",
       "    </tr>\n",
       "  </tbody>\n",
       "</table>\n",
       "<p>928 rows × 12 columns</p>\n",
       "</div>"
      ],
      "text/plain": [
       "        Wk  Day        Date   Time            Home   xG Score  xG.1  \\\n",
       "1029  24.0  Tue  2020-03-10  20:00           Eibar  2.0   1–2   1.2   \n",
       "1030  28.0  Thu  2020-06-11  22:00         Sevilla  1.7   2–0   0.5   \n",
       "1031  28.0  Fri  2020-06-12  19:30         Granada  2.3   2–1   0.6   \n",
       "1032  28.0  Fri  2020-06-12  22:00        Valencia  1.0   1–1   1.4   \n",
       "1033  28.0  Sat  2020-06-13  14:00        Espanyol  2.5   2–0   0.1   \n",
       "...    ...  ...         ...    ...             ...  ...   ...   ...   \n",
       "2256  36.0  Sun  2021-05-16  12:00  Crystal Palace  1.9   3–2   1.4   \n",
       "2257  36.0  Sun  2021-05-16  14:05       Tottenham  3.2   2–0   0.9   \n",
       "2258  36.0  Sun  2021-05-16  16:30       West Brom  1.0   1–2   1.9   \n",
       "2259  36.0  Sun  2021-05-16  19:00         Everton  1.4   0–1   1.2   \n",
       "3797  38.0  Sun  2023-05-28  16:30     Aston Villa  2.8   2–1   1.4   \n",
       "\n",
       "               Away  Attendance                          Venue  \\\n",
       "1029  Real Sociedad         NaN    Estadio Municipal de Ipurúa   \n",
       "1030          Betis         NaN  Estadio Ramón Sánchez Pizjuán   \n",
       "1031         Getafe         NaN     Estadio Nuevo Los Cármenes   \n",
       "1032        Levante         NaN            Estadio de Mestalla   \n",
       "1033         Alavés         NaN                   RCDE Stadium   \n",
       "...             ...         ...                            ...   \n",
       "2256    Aston Villa         NaN                  Selhurst Park   \n",
       "2257         Wolves         NaN      Tottenham Hotspur Stadium   \n",
       "2258      Liverpool         NaN                  The Hawthorns   \n",
       "2259  Sheffield Utd         NaN                  Goodison Park   \n",
       "3797       Brighton         NaN                     Villa Park   \n",
       "\n",
       "                  Referee  \n",
       "1029          David Medié  \n",
       "1030  Antonio Matéu Lahoz  \n",
       "1031          David Medié  \n",
       "1032            Hsu Jason  \n",
       "1033       Pablo González  \n",
       "...                   ...  \n",
       "2256          David Coote  \n",
       "2257      Martin Atkinson  \n",
       "2258            Mike Dean  \n",
       "2259        Jonathan Moss  \n",
       "3797          David Coote  \n",
       "\n",
       "[928 rows x 12 columns]"
      ]
     },
     "execution_count": 73,
     "metadata": {},
     "output_type": "execute_result"
    }
   ],
   "source": [
    "#displaying all rows that contain at least one missing value. This is useful for identifying rows that may need further cleaning or imputation.\n",
    "df[df.isnull().any(axis=1)]"
   ]
  },
  {
   "cell_type": "code",
   "execution_count": 74,
   "id": "ae8278298880ada8",
   "metadata": {
    "ExecuteTime": {
     "end_time": "2024-04-18T12:47:48.665177Z",
     "start_time": "2024-04-18T12:47:48.584347Z"
    },
    "jupyter": {
     "outputs_hidden": false
    }
   },
   "outputs": [
    {
     "data": {
      "text/html": [
       "<div>\n",
       "<style scoped>\n",
       "    .dataframe tbody tr th:only-of-type {\n",
       "        vertical-align: middle;\n",
       "    }\n",
       "\n",
       "    .dataframe tbody tr th {\n",
       "        vertical-align: top;\n",
       "    }\n",
       "\n",
       "    .dataframe thead th {\n",
       "        text-align: right;\n",
       "    }\n",
       "</style>\n",
       "<table border=\"1\" class=\"dataframe\">\n",
       "  <thead>\n",
       "    <tr style=\"text-align: right;\">\n",
       "      <th></th>\n",
       "      <th>Wk</th>\n",
       "      <th>Day</th>\n",
       "      <th>Date</th>\n",
       "      <th>Time</th>\n",
       "      <th>Home</th>\n",
       "      <th>xG</th>\n",
       "      <th>Score</th>\n",
       "      <th>xG.1</th>\n",
       "      <th>Away</th>\n",
       "      <th>Attendance</th>\n",
       "      <th>Venue</th>\n",
       "      <th>Referee</th>\n",
       "    </tr>\n",
       "  </thead>\n",
       "  <tbody>\n",
       "  </tbody>\n",
       "</table>\n",
       "</div>"
      ],
      "text/plain": [
       "Empty DataFrame\n",
       "Columns: [Wk, Day, Date, Time, Home, xG, Score, xG.1, Away, Attendance, Venue, Referee]\n",
       "Index: []"
      ]
     },
     "execution_count": 74,
     "metadata": {},
     "output_type": "execute_result"
    }
   ],
   "source": [
    "#filters the DataFrame df to show only the rows where the value in the Score column is NaN (i.e., missing or null).\n",
    "df[df['Score'].isnull()]"
   ]
  },
  {
   "cell_type": "code",
   "execution_count": 75,
   "id": "1e2eb96c66a61f0f",
   "metadata": {
    "ExecuteTime": {
     "end_time": "2024-04-18T12:47:56.360299Z",
     "start_time": "2024-04-18T12:47:56.348364Z"
    },
    "jupyter": {
     "outputs_hidden": false
    }
   },
   "outputs": [],
   "source": [
    "# Drop rows where there are missing values in 'Score', 'xG', 'xG.1', and 'Referee'\n",
    "df = df.dropna(subset=['Score', 'xG', 'xG.1', 'Referee'])\n",
    "\n",
    "# We'll also choose to drop the 'Attendance' column if not used for prediction\n",
    "# Drop 'Attendance' and 'Time' columns as they may not be essential for the initial model\n",
    "df = df.drop(columns=['Attendance', 'Time'])"
   ]
  },
  {
   "cell_type": "code",
   "execution_count": 76,
   "id": "7aebf8686a1ef4b0",
   "metadata": {
    "ExecuteTime": {
     "end_time": "2024-04-18T12:48:03.526401Z",
     "start_time": "2024-04-18T12:48:03.436612Z"
    },
    "jupyter": {
     "outputs_hidden": false
    }
   },
   "outputs": [
    {
     "data": {
      "text/html": [
       "<div>\n",
       "<style scoped>\n",
       "    .dataframe tbody tr th:only-of-type {\n",
       "        vertical-align: middle;\n",
       "    }\n",
       "\n",
       "    .dataframe tbody tr th {\n",
       "        vertical-align: top;\n",
       "    }\n",
       "\n",
       "    .dataframe thead th {\n",
       "        text-align: right;\n",
       "    }\n",
       "</style>\n",
       "<table border=\"1\" class=\"dataframe\">\n",
       "  <thead>\n",
       "    <tr style=\"text-align: right;\">\n",
       "      <th></th>\n",
       "      <th>Wk</th>\n",
       "      <th>Day</th>\n",
       "      <th>Date</th>\n",
       "      <th>Home</th>\n",
       "      <th>xG</th>\n",
       "      <th>Score</th>\n",
       "      <th>xG.1</th>\n",
       "      <th>Away</th>\n",
       "      <th>Venue</th>\n",
       "      <th>Referee</th>\n",
       "    </tr>\n",
       "  </thead>\n",
       "  <tbody>\n",
       "    <tr>\n",
       "      <th>0</th>\n",
       "      <td>1.0</td>\n",
       "      <td>Fri</td>\n",
       "      <td>2018-08-17</td>\n",
       "      <td>Girona</td>\n",
       "      <td>0.7</td>\n",
       "      <td>0–0</td>\n",
       "      <td>0.0</td>\n",
       "      <td>Valladolid</td>\n",
       "      <td>Estadi Municipal de Montilivi</td>\n",
       "      <td>Guillermo Cuadra</td>\n",
       "    </tr>\n",
       "    <tr>\n",
       "      <th>1</th>\n",
       "      <td>1.0</td>\n",
       "      <td>Fri</td>\n",
       "      <td>2018-08-17</td>\n",
       "      <td>Betis</td>\n",
       "      <td>0.9</td>\n",
       "      <td>0–3</td>\n",
       "      <td>2.5</td>\n",
       "      <td>Levante</td>\n",
       "      <td>Estadio Benito Villamarín</td>\n",
       "      <td>Ignacio Iglesias</td>\n",
       "    </tr>\n",
       "    <tr>\n",
       "      <th>2</th>\n",
       "      <td>1.0</td>\n",
       "      <td>Sat</td>\n",
       "      <td>2018-08-18</td>\n",
       "      <td>Celta Vigo</td>\n",
       "      <td>0.6</td>\n",
       "      <td>1–1</td>\n",
       "      <td>0.6</td>\n",
       "      <td>Espanyol</td>\n",
       "      <td>Estadio de Balaídos</td>\n",
       "      <td>Santiago Jaime</td>\n",
       "    </tr>\n",
       "    <tr>\n",
       "      <th>3</th>\n",
       "      <td>1.0</td>\n",
       "      <td>Sat</td>\n",
       "      <td>2018-08-18</td>\n",
       "      <td>Villarreal</td>\n",
       "      <td>1.6</td>\n",
       "      <td>1–2</td>\n",
       "      <td>0.7</td>\n",
       "      <td>Real Sociedad</td>\n",
       "      <td>Estadio de la Cerámica</td>\n",
       "      <td>Mario Melero</td>\n",
       "    </tr>\n",
       "    <tr>\n",
       "      <th>4</th>\n",
       "      <td>1.0</td>\n",
       "      <td>Sat</td>\n",
       "      <td>2018-08-18</td>\n",
       "      <td>Barcelona</td>\n",
       "      <td>3.2</td>\n",
       "      <td>3–0</td>\n",
       "      <td>0.3</td>\n",
       "      <td>Alavés</td>\n",
       "      <td>Camp Nou</td>\n",
       "      <td>José Sánchez</td>\n",
       "    </tr>\n",
       "  </tbody>\n",
       "</table>\n",
       "</div>"
      ],
      "text/plain": [
       "    Wk  Day        Date        Home   xG Score  xG.1           Away  \\\n",
       "0  1.0  Fri  2018-08-17      Girona  0.7   0–0   0.0     Valladolid   \n",
       "1  1.0  Fri  2018-08-17       Betis  0.9   0–3   2.5        Levante   \n",
       "2  1.0  Sat  2018-08-18  Celta Vigo  0.6   1–1   0.6       Espanyol   \n",
       "3  1.0  Sat  2018-08-18  Villarreal  1.6   1–2   0.7  Real Sociedad   \n",
       "4  1.0  Sat  2018-08-18   Barcelona  3.2   3–0   0.3         Alavés   \n",
       "\n",
       "                           Venue           Referee  \n",
       "0  Estadi Municipal de Montilivi  Guillermo Cuadra  \n",
       "1      Estadio Benito Villamarín  Ignacio Iglesias  \n",
       "2            Estadio de Balaídos    Santiago Jaime  \n",
       "3         Estadio de la Cerámica      Mario Melero  \n",
       "4                       Camp Nou      José Sánchez  "
      ]
     },
     "execution_count": 76,
     "metadata": {},
     "output_type": "execute_result"
    }
   ],
   "source": [
    "df.head()"
   ]
  },
  {
   "cell_type": "code",
   "execution_count": 77,
   "id": "d794dfda6cd9b2ca",
   "metadata": {
    "ExecuteTime": {
     "end_time": "2024-04-18T12:48:07.368381Z",
     "start_time": "2024-04-18T12:48:07.363706Z"
    },
    "jupyter": {
     "outputs_hidden": false
    }
   },
   "outputs": [],
   "source": [
    "# Split the 'Score' column into 'HomeGoals' and 'AwayGoals' columns\n",
    "df[['home_goals', 'away_goals']] = df['Score'].str.split('–', expand=True).astype(float)"
   ]
  },
  {
   "cell_type": "code",
   "execution_count": 78,
   "id": "48ae285e132be658",
   "metadata": {
    "ExecuteTime": {
     "end_time": "2024-04-18T12:48:08.260704Z",
     "start_time": "2024-04-18T12:48:08.242097Z"
    },
    "jupyter": {
     "outputs_hidden": false
    }
   },
   "outputs": [],
   "source": [
    "# Create a season_start column \n",
    "df['Date'] = pd.to_datetime(df['Date'])\n",
    "#reates the new season_start column by applying a lambda function to each date in the Date column.\n",
    "df['season_start'] = df['Date'].apply(lambda x: x.year - 1 if x.month < 8 else x.year)"
   ]
  },
  {
   "cell_type": "code",
   "execution_count": 79,
   "id": "f6291c91c426991f",
   "metadata": {
    "ExecuteTime": {
     "end_time": "2024-04-18T12:48:10.201244Z",
     "start_time": "2024-04-18T12:48:10.191794Z"
    },
    "jupyter": {
     "outputs_hidden": false
    }
   },
   "outputs": [],
   "source": [
    "# Create a target variable for the match result\n",
    "def determine_result(row):\n",
    "    if row['home_goals'] > row['away_goals']:\n",
    "        return 'Home win'\n",
    "    elif row['home_goals'] < row['away_goals']:\n",
    "        return 'Away win'\n",
    "    else:\n",
    "        return 'Draw'\n",
    "\n",
    "df['result'] = df.apply(determine_result, axis=1)"
   ]
  },
  {
   "cell_type": "code",
   "execution_count": 80,
   "id": "9610180d13fd82d7",
   "metadata": {
    "ExecuteTime": {
     "end_time": "2024-04-18T12:48:26.297487Z",
     "start_time": "2024-04-18T12:48:25.516151Z"
    },
    "jupyter": {
     "outputs_hidden": false
    }
   },
   "outputs": [
    {
     "data": {
      "text/html": [
       "<div>\n",
       "<style scoped>\n",
       "    .dataframe tbody tr th:only-of-type {\n",
       "        vertical-align: middle;\n",
       "    }\n",
       "\n",
       "    .dataframe tbody tr th {\n",
       "        vertical-align: top;\n",
       "    }\n",
       "\n",
       "    .dataframe thead th {\n",
       "        text-align: right;\n",
       "    }\n",
       "</style>\n",
       "<table border=\"1\" class=\"dataframe\">\n",
       "  <thead>\n",
       "    <tr style=\"text-align: right;\">\n",
       "      <th></th>\n",
       "      <th>Wk</th>\n",
       "      <th>Date</th>\n",
       "      <th>Home</th>\n",
       "      <th>xG</th>\n",
       "      <th>Score</th>\n",
       "      <th>xG.1</th>\n",
       "      <th>Away</th>\n",
       "      <th>Venue</th>\n",
       "      <th>Referee</th>\n",
       "      <th>home_goals</th>\n",
       "      <th>away_goals</th>\n",
       "      <th>season_start</th>\n",
       "      <th>result</th>\n",
       "      <th>Day_Friday</th>\n",
       "      <th>Day_Monday</th>\n",
       "      <th>Day_Saturday</th>\n",
       "      <th>Day_Sunday</th>\n",
       "      <th>Day_Thursday</th>\n",
       "      <th>Day_Tuesday</th>\n",
       "      <th>Day_Wednesday</th>\n",
       "    </tr>\n",
       "  </thead>\n",
       "  <tbody>\n",
       "    <tr>\n",
       "      <th>0</th>\n",
       "      <td>1.0</td>\n",
       "      <td>2018-08-17</td>\n",
       "      <td>Girona</td>\n",
       "      <td>0.7</td>\n",
       "      <td>0–0</td>\n",
       "      <td>0.0</td>\n",
       "      <td>Valladolid</td>\n",
       "      <td>Estadi Municipal de Montilivi</td>\n",
       "      <td>Guillermo Cuadra</td>\n",
       "      <td>0.0</td>\n",
       "      <td>0.0</td>\n",
       "      <td>2018</td>\n",
       "      <td>Draw</td>\n",
       "      <td>True</td>\n",
       "      <td>False</td>\n",
       "      <td>False</td>\n",
       "      <td>False</td>\n",
       "      <td>False</td>\n",
       "      <td>False</td>\n",
       "      <td>False</td>\n",
       "    </tr>\n",
       "    <tr>\n",
       "      <th>1</th>\n",
       "      <td>1.0</td>\n",
       "      <td>2018-08-17</td>\n",
       "      <td>Betis</td>\n",
       "      <td>0.9</td>\n",
       "      <td>0–3</td>\n",
       "      <td>2.5</td>\n",
       "      <td>Levante</td>\n",
       "      <td>Estadio Benito Villamarín</td>\n",
       "      <td>Ignacio Iglesias</td>\n",
       "      <td>0.0</td>\n",
       "      <td>3.0</td>\n",
       "      <td>2018</td>\n",
       "      <td>Away win</td>\n",
       "      <td>True</td>\n",
       "      <td>False</td>\n",
       "      <td>False</td>\n",
       "      <td>False</td>\n",
       "      <td>False</td>\n",
       "      <td>False</td>\n",
       "      <td>False</td>\n",
       "    </tr>\n",
       "    <tr>\n",
       "      <th>2</th>\n",
       "      <td>1.0</td>\n",
       "      <td>2018-08-18</td>\n",
       "      <td>Celta Vigo</td>\n",
       "      <td>0.6</td>\n",
       "      <td>1–1</td>\n",
       "      <td>0.6</td>\n",
       "      <td>Espanyol</td>\n",
       "      <td>Estadio de Balaídos</td>\n",
       "      <td>Santiago Jaime</td>\n",
       "      <td>1.0</td>\n",
       "      <td>1.0</td>\n",
       "      <td>2018</td>\n",
       "      <td>Draw</td>\n",
       "      <td>False</td>\n",
       "      <td>False</td>\n",
       "      <td>True</td>\n",
       "      <td>False</td>\n",
       "      <td>False</td>\n",
       "      <td>False</td>\n",
       "      <td>False</td>\n",
       "    </tr>\n",
       "    <tr>\n",
       "      <th>3</th>\n",
       "      <td>1.0</td>\n",
       "      <td>2018-08-18</td>\n",
       "      <td>Villarreal</td>\n",
       "      <td>1.6</td>\n",
       "      <td>1–2</td>\n",
       "      <td>0.7</td>\n",
       "      <td>Real Sociedad</td>\n",
       "      <td>Estadio de la Cerámica</td>\n",
       "      <td>Mario Melero</td>\n",
       "      <td>1.0</td>\n",
       "      <td>2.0</td>\n",
       "      <td>2018</td>\n",
       "      <td>Away win</td>\n",
       "      <td>False</td>\n",
       "      <td>False</td>\n",
       "      <td>True</td>\n",
       "      <td>False</td>\n",
       "      <td>False</td>\n",
       "      <td>False</td>\n",
       "      <td>False</td>\n",
       "    </tr>\n",
       "    <tr>\n",
       "      <th>4</th>\n",
       "      <td>1.0</td>\n",
       "      <td>2018-08-18</td>\n",
       "      <td>Barcelona</td>\n",
       "      <td>3.2</td>\n",
       "      <td>3–0</td>\n",
       "      <td>0.3</td>\n",
       "      <td>Alavés</td>\n",
       "      <td>Camp Nou</td>\n",
       "      <td>José Sánchez</td>\n",
       "      <td>3.0</td>\n",
       "      <td>0.0</td>\n",
       "      <td>2018</td>\n",
       "      <td>Home win</td>\n",
       "      <td>False</td>\n",
       "      <td>False</td>\n",
       "      <td>True</td>\n",
       "      <td>False</td>\n",
       "      <td>False</td>\n",
       "      <td>False</td>\n",
       "      <td>False</td>\n",
       "    </tr>\n",
       "  </tbody>\n",
       "</table>\n",
       "</div>"
      ],
      "text/plain": [
       "    Wk       Date        Home   xG Score  xG.1           Away  \\\n",
       "0  1.0 2018-08-17      Girona  0.7   0–0   0.0     Valladolid   \n",
       "1  1.0 2018-08-17       Betis  0.9   0–3   2.5        Levante   \n",
       "2  1.0 2018-08-18  Celta Vigo  0.6   1–1   0.6       Espanyol   \n",
       "3  1.0 2018-08-18  Villarreal  1.6   1–2   0.7  Real Sociedad   \n",
       "4  1.0 2018-08-18   Barcelona  3.2   3–0   0.3         Alavés   \n",
       "\n",
       "                           Venue           Referee  home_goals  away_goals  \\\n",
       "0  Estadi Municipal de Montilivi  Guillermo Cuadra         0.0         0.0   \n",
       "1      Estadio Benito Villamarín  Ignacio Iglesias         0.0         3.0   \n",
       "2            Estadio de Balaídos    Santiago Jaime         1.0         1.0   \n",
       "3         Estadio de la Cerámica      Mario Melero         1.0         2.0   \n",
       "4                       Camp Nou      José Sánchez         3.0         0.0   \n",
       "\n",
       "   season_start    result  Day_Friday  Day_Monday  Day_Saturday  Day_Sunday  \\\n",
       "0          2018      Draw        True       False         False       False   \n",
       "1          2018  Away win        True       False         False       False   \n",
       "2          2018      Draw       False       False          True       False   \n",
       "3          2018  Away win       False       False          True       False   \n",
       "4          2018  Home win       False       False          True       False   \n",
       "\n",
       "   Day_Thursday  Day_Tuesday  Day_Wednesday  \n",
       "0         False        False          False  \n",
       "1         False        False          False  \n",
       "2         False        False          False  \n",
       "3         False        False          False  \n",
       "4         False        False          False  "
      ]
     },
     "execution_count": 80,
     "metadata": {},
     "output_type": "execute_result"
    }
   ],
   "source": [
    "#encodes the 'Day' column as a categorical feature by creating dummy variables, and it uses pd.get_dummies to do so.\n",
    "df['Day'] = df['Date'].dt.day_name()\n",
    "df = pd.get_dummies(df, columns=['Day'])\n",
    "\n",
    "# Display the updated dataset with new features\n",
    "df.head()"
   ]
  },
  {
   "cell_type": "code",
   "execution_count": 81,
   "id": "d9ae0857ac970eeb",
   "metadata": {
    "ExecuteTime": {
     "end_time": "2024-04-18T12:48:41.661298Z",
     "start_time": "2024-04-18T12:48:41.651860Z"
    },
    "jupyter": {
     "outputs_hidden": false
    }
   },
   "outputs": [],
   "source": [
    "# resets the index of the DataFrame, removing the existing index and replacing it with a new default one (starting from 0).\n",
    "df.reset_index(drop=True, inplace=True)\n",
    "#sorts the data by date\n",
    "df.sort_values(['Date'], inplace=True)"
   ]
  },
  {
   "cell_type": "code",
   "execution_count": 82,
   "id": "8a6d663a6eec3ab",
   "metadata": {
    "ExecuteTime": {
     "end_time": "2024-04-18T12:48:42.653126Z",
     "start_time": "2024-04-18T12:48:42.571528Z"
    },
    "jupyter": {
     "outputs_hidden": false
    }
   },
   "outputs": [],
   "source": [
    "#iterates over the unique values in the 'Home' column (i.e., all the unique home teams).\n",
    "for x in df.Home.unique():\n",
    "    temp_df = df[(df['Home'] == x) | (df['Away'] == x)]\n",
    "    break"
   ]
  },
  {
   "cell_type": "code",
   "execution_count": 83,
   "id": "5cf8c0dc7cf823ec",
   "metadata": {
    "ExecuteTime": {
     "end_time": "2024-04-18T12:48:44.849481Z",
     "start_time": "2024-04-18T12:48:44.832571Z"
    },
    "jupyter": {
     "outputs_hidden": false
    }
   },
   "outputs": [
    {
     "data": {
      "text/html": [
       "<div>\n",
       "<style scoped>\n",
       "    .dataframe tbody tr th:only-of-type {\n",
       "        vertical-align: middle;\n",
       "    }\n",
       "\n",
       "    .dataframe tbody tr th {\n",
       "        vertical-align: top;\n",
       "    }\n",
       "\n",
       "    .dataframe thead th {\n",
       "        text-align: right;\n",
       "    }\n",
       "</style>\n",
       "<table border=\"1\" class=\"dataframe\">\n",
       "  <thead>\n",
       "    <tr style=\"text-align: right;\">\n",
       "      <th></th>\n",
       "      <th>Wk</th>\n",
       "      <th>Date</th>\n",
       "      <th>Home</th>\n",
       "      <th>xG</th>\n",
       "      <th>Score</th>\n",
       "      <th>xG.1</th>\n",
       "      <th>Away</th>\n",
       "      <th>Venue</th>\n",
       "      <th>Referee</th>\n",
       "      <th>home_goals</th>\n",
       "      <th>away_goals</th>\n",
       "      <th>season_start</th>\n",
       "      <th>result</th>\n",
       "      <th>Day_Friday</th>\n",
       "      <th>Day_Monday</th>\n",
       "      <th>Day_Saturday</th>\n",
       "      <th>Day_Sunday</th>\n",
       "      <th>Day_Thursday</th>\n",
       "      <th>Day_Tuesday</th>\n",
       "      <th>Day_Wednesday</th>\n",
       "    </tr>\n",
       "  </thead>\n",
       "  <tbody>\n",
       "    <tr>\n",
       "      <th>380</th>\n",
       "      <td>1.0</td>\n",
       "      <td>2018-08-10</td>\n",
       "      <td>Manchester Utd</td>\n",
       "      <td>1.5</td>\n",
       "      <td>2–1</td>\n",
       "      <td>1.8</td>\n",
       "      <td>Leicester City</td>\n",
       "      <td>Old Trafford</td>\n",
       "      <td>Andre Marriner</td>\n",
       "      <td>2.0</td>\n",
       "      <td>1.0</td>\n",
       "      <td>2018</td>\n",
       "      <td>Home win</td>\n",
       "      <td>True</td>\n",
       "      <td>False</td>\n",
       "      <td>False</td>\n",
       "      <td>False</td>\n",
       "      <td>False</td>\n",
       "      <td>False</td>\n",
       "      <td>False</td>\n",
       "    </tr>\n",
       "    <tr>\n",
       "      <th>398</th>\n",
       "      <td>2.0</td>\n",
       "      <td>2018-08-19</td>\n",
       "      <td>Brighton</td>\n",
       "      <td>1.7</td>\n",
       "      <td>3–2</td>\n",
       "      <td>1.4</td>\n",
       "      <td>Manchester Utd</td>\n",
       "      <td>The American Express Community Stadium</td>\n",
       "      <td>Kevin Friend</td>\n",
       "      <td>3.0</td>\n",
       "      <td>2.0</td>\n",
       "      <td>2018</td>\n",
       "      <td>Home win</td>\n",
       "      <td>False</td>\n",
       "      <td>False</td>\n",
       "      <td>False</td>\n",
       "      <td>True</td>\n",
       "      <td>False</td>\n",
       "      <td>False</td>\n",
       "      <td>False</td>\n",
       "    </tr>\n",
       "    <tr>\n",
       "      <th>409</th>\n",
       "      <td>3.0</td>\n",
       "      <td>2018-08-27</td>\n",
       "      <td>Manchester Utd</td>\n",
       "      <td>1.5</td>\n",
       "      <td>0–3</td>\n",
       "      <td>1.2</td>\n",
       "      <td>Tottenham</td>\n",
       "      <td>Old Trafford</td>\n",
       "      <td>Craig Pawson</td>\n",
       "      <td>0.0</td>\n",
       "      <td>3.0</td>\n",
       "      <td>2018</td>\n",
       "      <td>Away win</td>\n",
       "      <td>False</td>\n",
       "      <td>True</td>\n",
       "      <td>False</td>\n",
       "      <td>False</td>\n",
       "      <td>False</td>\n",
       "      <td>False</td>\n",
       "      <td>False</td>\n",
       "    </tr>\n",
       "    <tr>\n",
       "      <th>419</th>\n",
       "      <td>4.0</td>\n",
       "      <td>2018-09-02</td>\n",
       "      <td>Burnley</td>\n",
       "      <td>0.8</td>\n",
       "      <td>0–2</td>\n",
       "      <td>2.5</td>\n",
       "      <td>Manchester Utd</td>\n",
       "      <td>Turf Moor</td>\n",
       "      <td>Jonathan Moss</td>\n",
       "      <td>0.0</td>\n",
       "      <td>2.0</td>\n",
       "      <td>2018</td>\n",
       "      <td>Away win</td>\n",
       "      <td>False</td>\n",
       "      <td>False</td>\n",
       "      <td>False</td>\n",
       "      <td>True</td>\n",
       "      <td>False</td>\n",
       "      <td>False</td>\n",
       "      <td>False</td>\n",
       "    </tr>\n",
       "    <tr>\n",
       "      <th>426</th>\n",
       "      <td>5.0</td>\n",
       "      <td>2018-09-15</td>\n",
       "      <td>Watford</td>\n",
       "      <td>1.3</td>\n",
       "      <td>1–2</td>\n",
       "      <td>1.9</td>\n",
       "      <td>Manchester Utd</td>\n",
       "      <td>Vicarage Road Stadium</td>\n",
       "      <td>Mike Dean</td>\n",
       "      <td>1.0</td>\n",
       "      <td>2.0</td>\n",
       "      <td>2018</td>\n",
       "      <td>Away win</td>\n",
       "      <td>False</td>\n",
       "      <td>False</td>\n",
       "      <td>True</td>\n",
       "      <td>False</td>\n",
       "      <td>False</td>\n",
       "      <td>False</td>\n",
       "      <td>False</td>\n",
       "    </tr>\n",
       "    <tr>\n",
       "      <th>...</th>\n",
       "      <td>...</td>\n",
       "      <td>...</td>\n",
       "      <td>...</td>\n",
       "      <td>...</td>\n",
       "      <td>...</td>\n",
       "      <td>...</td>\n",
       "      <td>...</td>\n",
       "      <td>...</td>\n",
       "      <td>...</td>\n",
       "      <td>...</td>\n",
       "      <td>...</td>\n",
       "      <td>...</td>\n",
       "      <td>...</td>\n",
       "      <td>...</td>\n",
       "      <td>...</td>\n",
       "      <td>...</td>\n",
       "      <td>...</td>\n",
       "      <td>...</td>\n",
       "      <td>...</td>\n",
       "      <td>...</td>\n",
       "    </tr>\n",
       "    <tr>\n",
       "      <th>4519</th>\n",
       "      <td>35.0</td>\n",
       "      <td>2024-04-27</td>\n",
       "      <td>Manchester Utd</td>\n",
       "      <td>2.7</td>\n",
       "      <td>1–1</td>\n",
       "      <td>2.1</td>\n",
       "      <td>Burnley</td>\n",
       "      <td>Old Trafford</td>\n",
       "      <td>John Brooks</td>\n",
       "      <td>1.0</td>\n",
       "      <td>1.0</td>\n",
       "      <td>2023</td>\n",
       "      <td>Draw</td>\n",
       "      <td>False</td>\n",
       "      <td>False</td>\n",
       "      <td>True</td>\n",
       "      <td>False</td>\n",
       "      <td>False</td>\n",
       "      <td>False</td>\n",
       "      <td>False</td>\n",
       "    </tr>\n",
       "    <tr>\n",
       "      <th>4536</th>\n",
       "      <td>36.0</td>\n",
       "      <td>2024-05-06</td>\n",
       "      <td>Crystal Palace</td>\n",
       "      <td>1.7</td>\n",
       "      <td>4–0</td>\n",
       "      <td>0.4</td>\n",
       "      <td>Manchester Utd</td>\n",
       "      <td>Selhurst Park</td>\n",
       "      <td>Jarred Gillett</td>\n",
       "      <td>4.0</td>\n",
       "      <td>0.0</td>\n",
       "      <td>2023</td>\n",
       "      <td>Home win</td>\n",
       "      <td>False</td>\n",
       "      <td>True</td>\n",
       "      <td>False</td>\n",
       "      <td>False</td>\n",
       "      <td>False</td>\n",
       "      <td>False</td>\n",
       "      <td>False</td>\n",
       "    </tr>\n",
       "    <tr>\n",
       "      <th>4545</th>\n",
       "      <td>37.0</td>\n",
       "      <td>2024-05-12</td>\n",
       "      <td>Manchester Utd</td>\n",
       "      <td>0.5</td>\n",
       "      <td>0–1</td>\n",
       "      <td>1.5</td>\n",
       "      <td>Arsenal</td>\n",
       "      <td>Old Trafford</td>\n",
       "      <td>Paul Tierney</td>\n",
       "      <td>0.0</td>\n",
       "      <td>1.0</td>\n",
       "      <td>2023</td>\n",
       "      <td>Away win</td>\n",
       "      <td>False</td>\n",
       "      <td>False</td>\n",
       "      <td>False</td>\n",
       "      <td>True</td>\n",
       "      <td>False</td>\n",
       "      <td>False</td>\n",
       "      <td>False</td>\n",
       "    </tr>\n",
       "    <tr>\n",
       "      <th>4549</th>\n",
       "      <td>34.0</td>\n",
       "      <td>2024-05-15</td>\n",
       "      <td>Manchester Utd</td>\n",
       "      <td>1.5</td>\n",
       "      <td>3–2</td>\n",
       "      <td>2.2</td>\n",
       "      <td>Newcastle Utd</td>\n",
       "      <td>Old Trafford</td>\n",
       "      <td>Robert Jones</td>\n",
       "      <td>3.0</td>\n",
       "      <td>2.0</td>\n",
       "      <td>2023</td>\n",
       "      <td>Home win</td>\n",
       "      <td>False</td>\n",
       "      <td>False</td>\n",
       "      <td>False</td>\n",
       "      <td>False</td>\n",
       "      <td>False</td>\n",
       "      <td>False</td>\n",
       "      <td>True</td>\n",
       "    </tr>\n",
       "    <tr>\n",
       "      <th>4554</th>\n",
       "      <td>38.0</td>\n",
       "      <td>2024-05-19</td>\n",
       "      <td>Brighton</td>\n",
       "      <td>1.7</td>\n",
       "      <td>0–2</td>\n",
       "      <td>1.3</td>\n",
       "      <td>Manchester Utd</td>\n",
       "      <td>The American Express Community Stadium</td>\n",
       "      <td>Craig Pawson</td>\n",
       "      <td>0.0</td>\n",
       "      <td>2.0</td>\n",
       "      <td>2023</td>\n",
       "      <td>Away win</td>\n",
       "      <td>False</td>\n",
       "      <td>False</td>\n",
       "      <td>False</td>\n",
       "      <td>True</td>\n",
       "      <td>False</td>\n",
       "      <td>False</td>\n",
       "      <td>False</td>\n",
       "    </tr>\n",
       "  </tbody>\n",
       "</table>\n",
       "<p>228 rows × 20 columns</p>\n",
       "</div>"
      ],
      "text/plain": [
       "        Wk       Date            Home   xG Score  xG.1            Away  \\\n",
       "380    1.0 2018-08-10  Manchester Utd  1.5   2–1   1.8  Leicester City   \n",
       "398    2.0 2018-08-19        Brighton  1.7   3–2   1.4  Manchester Utd   \n",
       "409    3.0 2018-08-27  Manchester Utd  1.5   0–3   1.2       Tottenham   \n",
       "419    4.0 2018-09-02         Burnley  0.8   0–2   2.5  Manchester Utd   \n",
       "426    5.0 2018-09-15         Watford  1.3   1–2   1.9  Manchester Utd   \n",
       "...    ...        ...             ...  ...   ...   ...             ...   \n",
       "4519  35.0 2024-04-27  Manchester Utd  2.7   1–1   2.1         Burnley   \n",
       "4536  36.0 2024-05-06  Crystal Palace  1.7   4–0   0.4  Manchester Utd   \n",
       "4545  37.0 2024-05-12  Manchester Utd  0.5   0–1   1.5         Arsenal   \n",
       "4549  34.0 2024-05-15  Manchester Utd  1.5   3–2   2.2   Newcastle Utd   \n",
       "4554  38.0 2024-05-19        Brighton  1.7   0–2   1.3  Manchester Utd   \n",
       "\n",
       "                                       Venue         Referee  home_goals  \\\n",
       "380                             Old Trafford  Andre Marriner         2.0   \n",
       "398   The American Express Community Stadium    Kevin Friend         3.0   \n",
       "409                             Old Trafford    Craig Pawson         0.0   \n",
       "419                                Turf Moor   Jonathan Moss         0.0   \n",
       "426                    Vicarage Road Stadium       Mike Dean         1.0   \n",
       "...                                      ...             ...         ...   \n",
       "4519                            Old Trafford     John Brooks         1.0   \n",
       "4536                           Selhurst Park  Jarred Gillett         4.0   \n",
       "4545                            Old Trafford    Paul Tierney         0.0   \n",
       "4549                            Old Trafford    Robert Jones         3.0   \n",
       "4554  The American Express Community Stadium    Craig Pawson         0.0   \n",
       "\n",
       "      away_goals  season_start    result  Day_Friday  Day_Monday  \\\n",
       "380          1.0          2018  Home win        True       False   \n",
       "398          2.0          2018  Home win       False       False   \n",
       "409          3.0          2018  Away win       False        True   \n",
       "419          2.0          2018  Away win       False       False   \n",
       "426          2.0          2018  Away win       False       False   \n",
       "...          ...           ...       ...         ...         ...   \n",
       "4519         1.0          2023      Draw       False       False   \n",
       "4536         0.0          2023  Home win       False        True   \n",
       "4545         1.0          2023  Away win       False       False   \n",
       "4549         2.0          2023  Home win       False       False   \n",
       "4554         2.0          2023  Away win       False       False   \n",
       "\n",
       "      Day_Saturday  Day_Sunday  Day_Thursday  Day_Tuesday  Day_Wednesday  \n",
       "380          False       False         False        False          False  \n",
       "398          False        True         False        False          False  \n",
       "409          False       False         False        False          False  \n",
       "419          False        True         False        False          False  \n",
       "426           True       False         False        False          False  \n",
       "...            ...         ...           ...          ...            ...  \n",
       "4519          True       False         False        False          False  \n",
       "4536         False       False         False        False          False  \n",
       "4545         False        True         False        False          False  \n",
       "4549         False       False         False        False           True  \n",
       "4554         False        True         False        False          False  \n",
       "\n",
       "[228 rows x 20 columns]"
      ]
     },
     "execution_count": 83,
     "metadata": {},
     "output_type": "execute_result"
    }
   ],
   "source": [
    "temp_df"
   ]
  },
  {
   "cell_type": "code",
   "execution_count": 84,
   "id": "26521ce64ae1fb7",
   "metadata": {
    "ExecuteTime": {
     "end_time": "2024-04-18T12:48:52.725173Z",
     "start_time": "2024-04-18T12:48:52.427974Z"
    },
    "jupyter": {
     "outputs_hidden": false
    }
   },
   "outputs": [],
   "source": [
    "# Update the rolling average goals for the home team in the main dataset\n",
    "#Iterating through each unique team in the 'Home' column:\n",
    "for x in df.Home.unique():\n",
    "    #filtering the data for each team\n",
    "    temp_df = df[(df['Home'] == x) | (df['Away'] == x)]\n",
    "    #Sorting the Matches Chronologically:\n",
    "    temp_df = temp_df.sort_values(['Date'])\n",
    "    #Assigning a Goal Value for Calculation:\n",
    "    temp_df['goal_value_to_calculate'] = temp_df.apply(lambda y: y['home_goals'] if y['Home'] == x else y['away_goals'], axis=1)\n",
    "    #Calculating the Rolling Average\n",
    "    temp_df['rolling_avg_goals'] = temp_df['goal_value_to_calculate'].rolling(window=5, closed=\"left\", min_periods=1).mean()\n",
    "    #Updating the Main DataFrame\n",
    "    for index, row in temp_df.iterrows():\n",
    "        if row['Home'] == x:\n",
    "            df.at[index, 'home_rolling_avg_goals'] = row['rolling_avg_goals']\n",
    "        else:\n",
    "            df.at[index, 'away_rolling_avg_goals'] = row['rolling_avg_goals']"
   ]
  },
  {
   "cell_type": "code",
   "execution_count": 85,
   "id": "83aba5e286a9681c",
   "metadata": {
    "ExecuteTime": {
     "end_time": "2024-04-18T12:48:54.700168Z",
     "start_time": "2024-04-18T12:48:54.691414Z"
    },
    "jupyter": {
     "outputs_hidden": false
    }
   },
   "outputs": [
    {
     "data": {
      "text/html": [
       "<div>\n",
       "<style scoped>\n",
       "    .dataframe tbody tr th:only-of-type {\n",
       "        vertical-align: middle;\n",
       "    }\n",
       "\n",
       "    .dataframe tbody tr th {\n",
       "        vertical-align: top;\n",
       "    }\n",
       "\n",
       "    .dataframe thead th {\n",
       "        text-align: right;\n",
       "    }\n",
       "</style>\n",
       "<table border=\"1\" class=\"dataframe\">\n",
       "  <thead>\n",
       "    <tr style=\"text-align: right;\">\n",
       "      <th></th>\n",
       "      <th>Wk</th>\n",
       "      <th>Date</th>\n",
       "      <th>Home</th>\n",
       "      <th>Away</th>\n",
       "      <th>home_goals</th>\n",
       "      <th>away_goals</th>\n",
       "      <th>home_rolling_avg_goals</th>\n",
       "      <th>away_rolling_avg_goals</th>\n",
       "    </tr>\n",
       "  </thead>\n",
       "  <tbody>\n",
       "    <tr>\n",
       "      <th>384</th>\n",
       "      <td>1.0</td>\n",
       "      <td>2018-08-11</td>\n",
       "      <td>Watford</td>\n",
       "      <td>Brighton</td>\n",
       "      <td>2.0</td>\n",
       "      <td>0.0</td>\n",
       "      <td>NaN</td>\n",
       "      <td>NaN</td>\n",
       "    </tr>\n",
       "    <tr>\n",
       "      <th>398</th>\n",
       "      <td>2.0</td>\n",
       "      <td>2018-08-19</td>\n",
       "      <td>Brighton</td>\n",
       "      <td>Manchester Utd</td>\n",
       "      <td>3.0</td>\n",
       "      <td>2.0</td>\n",
       "      <td>0.0</td>\n",
       "      <td>2.000000</td>\n",
       "    </tr>\n",
       "    <tr>\n",
       "      <th>405</th>\n",
       "      <td>3.0</td>\n",
       "      <td>2018-08-25</td>\n",
       "      <td>Liverpool</td>\n",
       "      <td>Brighton</td>\n",
       "      <td>1.0</td>\n",
       "      <td>0.0</td>\n",
       "      <td>3.0</td>\n",
       "      <td>1.500000</td>\n",
       "    </tr>\n",
       "    <tr>\n",
       "      <th>412</th>\n",
       "      <td>4.0</td>\n",
       "      <td>2018-09-01</td>\n",
       "      <td>Brighton</td>\n",
       "      <td>Fulham</td>\n",
       "      <td>2.0</td>\n",
       "      <td>2.0</td>\n",
       "      <td>1.0</td>\n",
       "      <td>1.666667</td>\n",
       "    </tr>\n",
       "    <tr>\n",
       "      <th>429</th>\n",
       "      <td>5.0</td>\n",
       "      <td>2018-09-17</td>\n",
       "      <td>Southampton</td>\n",
       "      <td>Brighton</td>\n",
       "      <td>2.0</td>\n",
       "      <td>2.0</td>\n",
       "      <td>1.0</td>\n",
       "      <td>1.250000</td>\n",
       "    </tr>\n",
       "    <tr>\n",
       "      <th>...</th>\n",
       "      <td>...</td>\n",
       "      <td>...</td>\n",
       "      <td>...</td>\n",
       "      <td>...</td>\n",
       "      <td>...</td>\n",
       "      <td>...</td>\n",
       "      <td>...</td>\n",
       "      <td>...</td>\n",
       "    </tr>\n",
       "    <tr>\n",
       "      <th>4524</th>\n",
       "      <td>35.0</td>\n",
       "      <td>2024-04-28</td>\n",
       "      <td>Bournemouth</td>\n",
       "      <td>Brighton</td>\n",
       "      <td>3.0</td>\n",
       "      <td>0.0</td>\n",
       "      <td>1.2</td>\n",
       "      <td>0.400000</td>\n",
       "    </tr>\n",
       "    <tr>\n",
       "      <th>4533</th>\n",
       "      <td>36.0</td>\n",
       "      <td>2024-05-05</td>\n",
       "      <td>Brighton</td>\n",
       "      <td>Aston Villa</td>\n",
       "      <td>1.0</td>\n",
       "      <td>0.0</td>\n",
       "      <td>0.2</td>\n",
       "      <td>2.200000</td>\n",
       "    </tr>\n",
       "    <tr>\n",
       "      <th>4542</th>\n",
       "      <td>37.0</td>\n",
       "      <td>2024-05-11</td>\n",
       "      <td>Newcastle Utd</td>\n",
       "      <td>Brighton</td>\n",
       "      <td>1.0</td>\n",
       "      <td>1.0</td>\n",
       "      <td>2.8</td>\n",
       "      <td>0.400000</td>\n",
       "    </tr>\n",
       "    <tr>\n",
       "      <th>4548</th>\n",
       "      <td>34.0</td>\n",
       "      <td>2024-05-15</td>\n",
       "      <td>Brighton</td>\n",
       "      <td>Chelsea</td>\n",
       "      <td>1.0</td>\n",
       "      <td>2.0</td>\n",
       "      <td>0.6</td>\n",
       "      <td>2.400000</td>\n",
       "    </tr>\n",
       "    <tr>\n",
       "      <th>4554</th>\n",
       "      <td>38.0</td>\n",
       "      <td>2024-05-19</td>\n",
       "      <td>Brighton</td>\n",
       "      <td>Manchester Utd</td>\n",
       "      <td>0.0</td>\n",
       "      <td>2.0</td>\n",
       "      <td>0.6</td>\n",
       "      <td>1.600000</td>\n",
       "    </tr>\n",
       "  </tbody>\n",
       "</table>\n",
       "<p>228 rows × 8 columns</p>\n",
       "</div>"
      ],
      "text/plain": [
       "        Wk       Date           Home            Away  home_goals  away_goals  \\\n",
       "384    1.0 2018-08-11        Watford        Brighton         2.0         0.0   \n",
       "398    2.0 2018-08-19       Brighton  Manchester Utd         3.0         2.0   \n",
       "405    3.0 2018-08-25      Liverpool        Brighton         1.0         0.0   \n",
       "412    4.0 2018-09-01       Brighton          Fulham         2.0         2.0   \n",
       "429    5.0 2018-09-17    Southampton        Brighton         2.0         2.0   \n",
       "...    ...        ...            ...             ...         ...         ...   \n",
       "4524  35.0 2024-04-28    Bournemouth        Brighton         3.0         0.0   \n",
       "4533  36.0 2024-05-05       Brighton     Aston Villa         1.0         0.0   \n",
       "4542  37.0 2024-05-11  Newcastle Utd        Brighton         1.0         1.0   \n",
       "4548  34.0 2024-05-15       Brighton         Chelsea         1.0         2.0   \n",
       "4554  38.0 2024-05-19       Brighton  Manchester Utd         0.0         2.0   \n",
       "\n",
       "      home_rolling_avg_goals  away_rolling_avg_goals  \n",
       "384                      NaN                     NaN  \n",
       "398                      0.0                2.000000  \n",
       "405                      3.0                1.500000  \n",
       "412                      1.0                1.666667  \n",
       "429                      1.0                1.250000  \n",
       "...                      ...                     ...  \n",
       "4524                     1.2                0.400000  \n",
       "4533                     0.2                2.200000  \n",
       "4542                     2.8                0.400000  \n",
       "4548                     0.6                2.400000  \n",
       "4554                     0.6                1.600000  \n",
       "\n",
       "[228 rows x 8 columns]"
      ]
     },
     "execution_count": 85,
     "metadata": {},
     "output_type": "execute_result"
    }
   ],
   "source": [
    "#filtering the DataFrame df to retrieve information about matches involving the team \"Brighton\".\n",
    "df[(df['Home'] == 'Brighton') | (df['Away'] == 'Brighton')][['Wk', 'Date', 'Home', 'Away', 'home_goals', 'away_goals','home_rolling_avg_goals', 'away_rolling_avg_goals']]"
   ]
  },
  {
   "cell_type": "code",
   "execution_count": 86,
   "id": "738470265ad0a7ee",
   "metadata": {
    "ExecuteTime": {
     "end_time": "2024-04-18T12:48:57.325091Z",
     "start_time": "2024-04-18T12:48:57.025037Z"
    },
    "jupyter": {
     "outputs_hidden": false
    }
   },
   "outputs": [],
   "source": [
    "# Calculate the rolling average of expected goals (xG) for each team in the DataFrame df.\n",
    "#Loop through Unique Home Teams:\n",
    "for x in df.Home.unique():\n",
    "    #Create Temporary DataFrame for Matches and sorting with date\n",
    "    temp_df = df[(df['Home'] == x) | (df['Away'] == x)]\n",
    "    temp_df = temp_df.sort_values(['Date'])\n",
    "    #Calculate xG Value\n",
    "    temp_df['xG_value_to_calculate'] = temp_df.apply(lambda y: y['xG'] if y['Home'] == x else y['xG.1'], axis=1)\n",
    "    #Calculate Rolling Average of xG\n",
    "    temp_df['rolling_avg_xG'] = temp_df['xG_value_to_calculate'].rolling(window=5, closed=\"left\", min_periods=1).mean()\n",
    "    \n",
    "    #Update Main DataFrame with Rolling Averages\n",
    "    for index, row in temp_df.iterrows():\n",
    "        if row['Home'] == x:\n",
    "            df.at[index, 'home_rolling_avg_xG'] = row['rolling_avg_xG']\n",
    "        else:\n",
    "            df.at[index, 'away_rolling_avg_xG'] = row['rolling_avg_xG']"
   ]
  },
  {
   "cell_type": "code",
   "execution_count": 87,
   "id": "2da3234fc62ed7d6",
   "metadata": {
    "ExecuteTime": {
     "end_time": "2024-04-18T12:48:58.629152Z",
     "start_time": "2024-04-18T12:48:58.593439Z"
    },
    "jupyter": {
     "outputs_hidden": false
    }
   },
   "outputs": [],
   "source": [
    "# One last bit of clean up is to drop the rows where the rolling averages are null\n",
    "df = df.dropna(subset=['home_rolling_avg_goals', 'away_rolling_avg_goals', 'home_rolling_avg_xG', 'away_rolling_avg_xG'])"
   ]
  },
  {
   "cell_type": "code",
   "execution_count": 88,
   "id": "b96122fab68990e4",
   "metadata": {
    "ExecuteTime": {
     "end_time": "2024-04-18T12:48:59.665507Z",
     "start_time": "2024-04-18T12:48:59.619649Z"
    },
    "jupyter": {
     "outputs_hidden": false
    }
   },
   "outputs": [
    {
     "data": {
      "text/html": [
       "<div>\n",
       "<style scoped>\n",
       "    .dataframe tbody tr th:only-of-type {\n",
       "        vertical-align: middle;\n",
       "    }\n",
       "\n",
       "    .dataframe tbody tr th {\n",
       "        vertical-align: top;\n",
       "    }\n",
       "\n",
       "    .dataframe thead th {\n",
       "        text-align: right;\n",
       "    }\n",
       "</style>\n",
       "<table border=\"1\" class=\"dataframe\">\n",
       "  <thead>\n",
       "    <tr style=\"text-align: right;\">\n",
       "      <th></th>\n",
       "      <th>Date</th>\n",
       "      <th>Home</th>\n",
       "      <th>Away</th>\n",
       "      <th>xG</th>\n",
       "      <th>xG.1</th>\n",
       "      <th>home_rolling_avg_xG</th>\n",
       "      <th>away_rolling_avg_xG</th>\n",
       "    </tr>\n",
       "  </thead>\n",
       "  <tbody>\n",
       "    <tr>\n",
       "      <th>398</th>\n",
       "      <td>2018-08-19</td>\n",
       "      <td>Brighton</td>\n",
       "      <td>Manchester Utd</td>\n",
       "      <td>1.7</td>\n",
       "      <td>1.4</td>\n",
       "      <td>0.300000</td>\n",
       "      <td>1.50</td>\n",
       "    </tr>\n",
       "    <tr>\n",
       "      <th>405</th>\n",
       "      <td>2018-08-25</td>\n",
       "      <td>Liverpool</td>\n",
       "      <td>Brighton</td>\n",
       "      <td>1.6</td>\n",
       "      <td>0.6</td>\n",
       "      <td>3.300000</td>\n",
       "      <td>1.00</td>\n",
       "    </tr>\n",
       "    <tr>\n",
       "      <th>412</th>\n",
       "      <td>2018-09-01</td>\n",
       "      <td>Brighton</td>\n",
       "      <td>Fulham</td>\n",
       "      <td>2.8</td>\n",
       "      <td>1.6</td>\n",
       "      <td>0.866667</td>\n",
       "      <td>1.20</td>\n",
       "    </tr>\n",
       "    <tr>\n",
       "      <th>429</th>\n",
       "      <td>2018-09-17</td>\n",
       "      <td>Southampton</td>\n",
       "      <td>Brighton</td>\n",
       "      <td>2.0</td>\n",
       "      <td>1.4</td>\n",
       "      <td>1.500000</td>\n",
       "      <td>1.35</td>\n",
       "    </tr>\n",
       "    <tr>\n",
       "      <th>437</th>\n",
       "      <td>2018-09-22</td>\n",
       "      <td>Brighton</td>\n",
       "      <td>Tottenham</td>\n",
       "      <td>0.8</td>\n",
       "      <td>1.9</td>\n",
       "      <td>1.360000</td>\n",
       "      <td>1.54</td>\n",
       "    </tr>\n",
       "    <tr>\n",
       "      <th>...</th>\n",
       "      <td>...</td>\n",
       "      <td>...</td>\n",
       "      <td>...</td>\n",
       "      <td>...</td>\n",
       "      <td>...</td>\n",
       "      <td>...</td>\n",
       "      <td>...</td>\n",
       "    </tr>\n",
       "    <tr>\n",
       "      <th>4524</th>\n",
       "      <td>2024-04-28</td>\n",
       "      <td>Bournemouth</td>\n",
       "      <td>Brighton</td>\n",
       "      <td>1.9</td>\n",
       "      <td>0.9</td>\n",
       "      <td>1.360000</td>\n",
       "      <td>0.72</td>\n",
       "    </tr>\n",
       "    <tr>\n",
       "      <th>4533</th>\n",
       "      <td>2024-05-05</td>\n",
       "      <td>Brighton</td>\n",
       "      <td>Aston Villa</td>\n",
       "      <td>2.5</td>\n",
       "      <td>0.1</td>\n",
       "      <td>0.800000</td>\n",
       "      <td>1.34</td>\n",
       "    </tr>\n",
       "    <tr>\n",
       "      <th>4542</th>\n",
       "      <td>2024-05-11</td>\n",
       "      <td>Newcastle Utd</td>\n",
       "      <td>Brighton</td>\n",
       "      <td>2.2</td>\n",
       "      <td>1.4</td>\n",
       "      <td>2.140000</td>\n",
       "      <td>1.08</td>\n",
       "    </tr>\n",
       "    <tr>\n",
       "      <th>4548</th>\n",
       "      <td>2024-05-15</td>\n",
       "      <td>Brighton</td>\n",
       "      <td>Chelsea</td>\n",
       "      <td>1.3</td>\n",
       "      <td>1.5</td>\n",
       "      <td>1.260000</td>\n",
       "      <td>2.22</td>\n",
       "    </tr>\n",
       "    <tr>\n",
       "      <th>4554</th>\n",
       "      <td>2024-05-19</td>\n",
       "      <td>Brighton</td>\n",
       "      <td>Manchester Utd</td>\n",
       "      <td>1.7</td>\n",
       "      <td>1.3</td>\n",
       "      <td>1.340000</td>\n",
       "      <td>1.60</td>\n",
       "    </tr>\n",
       "  </tbody>\n",
       "</table>\n",
       "<p>226 rows × 7 columns</p>\n",
       "</div>"
      ],
      "text/plain": [
       "           Date           Home            Away   xG  xG.1  \\\n",
       "398  2018-08-19       Brighton  Manchester Utd  1.7   1.4   \n",
       "405  2018-08-25      Liverpool        Brighton  1.6   0.6   \n",
       "412  2018-09-01       Brighton          Fulham  2.8   1.6   \n",
       "429  2018-09-17    Southampton        Brighton  2.0   1.4   \n",
       "437  2018-09-22       Brighton       Tottenham  0.8   1.9   \n",
       "...         ...            ...             ...  ...   ...   \n",
       "4524 2024-04-28    Bournemouth        Brighton  1.9   0.9   \n",
       "4533 2024-05-05       Brighton     Aston Villa  2.5   0.1   \n",
       "4542 2024-05-11  Newcastle Utd        Brighton  2.2   1.4   \n",
       "4548 2024-05-15       Brighton         Chelsea  1.3   1.5   \n",
       "4554 2024-05-19       Brighton  Manchester Utd  1.7   1.3   \n",
       "\n",
       "      home_rolling_avg_xG  away_rolling_avg_xG  \n",
       "398              0.300000                 1.50  \n",
       "405              3.300000                 1.00  \n",
       "412              0.866667                 1.20  \n",
       "429              1.500000                 1.35  \n",
       "437              1.360000                 1.54  \n",
       "...                   ...                  ...  \n",
       "4524             1.360000                 0.72  \n",
       "4533             0.800000                 1.34  \n",
       "4542             2.140000                 1.08  \n",
       "4548             1.260000                 2.22  \n",
       "4554             1.340000                 1.60  \n",
       "\n",
       "[226 rows x 7 columns]"
      ]
     },
     "execution_count": 88,
     "metadata": {},
     "output_type": "execute_result"
    }
   ],
   "source": [
    "#Filtering for Brighton Matches\n",
    "df[(df['Home'] == 'Brighton') | (df['Away'] == 'Brighton')][['Date', 'Home', 'Away', 'xG', 'xG.1','home_rolling_avg_xG', 'away_rolling_avg_xG']]"
   ]
  },
  {
   "cell_type": "code",
   "execution_count": 89,
   "id": "4b2b213bba67962a",
   "metadata": {
    "ExecuteTime": {
     "end_time": "2024-04-18T12:53:18.417132Z",
     "start_time": "2024-04-18T12:53:18.209780Z"
    },
    "jupyter": {
     "outputs_hidden": false
    }
   },
   "outputs": [],
   "source": [
    "# Let's train a model to predict the match result\n",
    "from sklearn.ensemble import RandomForestClassifier\n",
    "from sklearn.metrics import accuracy_score\n",
    "from sklearn.metrics import confusion_matrix"
   ]
  },
  {
   "cell_type": "code",
   "execution_count": 90,
   "id": "7b1ef9bcc543cdae",
   "metadata": {
    "ExecuteTime": {
     "end_time": "2024-04-18T12:51:32.214578Z",
     "start_time": "2024-04-18T12:51:32.169409Z"
    },
    "jupyter": {
     "outputs_hidden": false
    }
   },
   "outputs": [
    {
     "name": "stdout",
     "output_type": "stream",
     "text": [
      "Index(['Wk', 'Date', 'Home', 'xG', 'Score', 'xG.1', 'Away', 'Venue', 'Referee',\n",
      "       'home_goals', 'away_goals', 'season_start', 'result', 'Day_Friday',\n",
      "       'Day_Monday', 'Day_Saturday', 'Day_Sunday', 'Day_Thursday',\n",
      "       'Day_Tuesday', 'Day_Wednesday', 'home_rolling_avg_goals',\n",
      "       'away_rolling_avg_goals', 'home_rolling_avg_xG', 'away_rolling_avg_xG'],\n",
      "      dtype='object')\n"
     ]
    },
    {
     "data": {
      "text/plain": [
       "Index(['Wk', 'Day_Friday', 'Day_Monday', 'Day_Saturday', 'Day_Sunday',\n",
       "       'Day_Thursday', 'Day_Tuesday', 'Day_Wednesday',\n",
       "       'home_rolling_avg_goals', 'away_rolling_avg_goals',\n",
       "       'home_rolling_avg_xG', 'away_rolling_avg_xG'],\n",
       "      dtype='object')"
      ]
     },
     "execution_count": 90,
     "metadata": {},
     "output_type": "execute_result"
    }
   ],
   "source": [
    "print(df.columns)\n",
    "df.drop(columns=['Date', 'xG', 'xG.1', 'Home', 'Away', 'Referee', 'Venue', 'Score', 'result', 'home_goals', 'away_goals', 'season_start']).columns\n"
   ]
  },
  {
   "cell_type": "code",
   "execution_count": 91,
   "id": "ec670617",
   "metadata": {},
   "outputs": [
    {
     "data": {
      "text/html": [
       "<div>\n",
       "<style scoped>\n",
       "    .dataframe tbody tr th:only-of-type {\n",
       "        vertical-align: middle;\n",
       "    }\n",
       "\n",
       "    .dataframe tbody tr th {\n",
       "        vertical-align: top;\n",
       "    }\n",
       "\n",
       "    .dataframe thead th {\n",
       "        text-align: right;\n",
       "    }\n",
       "</style>\n",
       "<table border=\"1\" class=\"dataframe\">\n",
       "  <thead>\n",
       "    <tr style=\"text-align: right;\">\n",
       "      <th></th>\n",
       "      <th>Wk</th>\n",
       "      <th>Date</th>\n",
       "      <th>Home</th>\n",
       "      <th>xG</th>\n",
       "      <th>Score</th>\n",
       "      <th>xG.1</th>\n",
       "      <th>Away</th>\n",
       "      <th>Venue</th>\n",
       "      <th>Referee</th>\n",
       "      <th>home_goals</th>\n",
       "      <th>...</th>\n",
       "      <th>Day_Monday</th>\n",
       "      <th>Day_Saturday</th>\n",
       "      <th>Day_Sunday</th>\n",
       "      <th>Day_Thursday</th>\n",
       "      <th>Day_Tuesday</th>\n",
       "      <th>Day_Wednesday</th>\n",
       "      <th>home_rolling_avg_goals</th>\n",
       "      <th>away_rolling_avg_goals</th>\n",
       "      <th>home_rolling_avg_xG</th>\n",
       "      <th>away_rolling_avg_xG</th>\n",
       "    </tr>\n",
       "  </thead>\n",
       "  <tbody>\n",
       "    <tr>\n",
       "      <th>390</th>\n",
       "      <td>2.0</td>\n",
       "      <td>2018-08-18</td>\n",
       "      <td>Cardiff City</td>\n",
       "      <td>0.9</td>\n",
       "      <td>0–0</td>\n",
       "      <td>1.6</td>\n",
       "      <td>Newcastle Utd</td>\n",
       "      <td>Cardiff City Stadium</td>\n",
       "      <td>Craig Pawson</td>\n",
       "      <td>0.0</td>\n",
       "      <td>...</td>\n",
       "      <td>False</td>\n",
       "      <td>True</td>\n",
       "      <td>False</td>\n",
       "      <td>False</td>\n",
       "      <td>False</td>\n",
       "      <td>False</td>\n",
       "      <td>0.0</td>\n",
       "      <td>1.0</td>\n",
       "      <td>1.40</td>\n",
       "      <td>1.00</td>\n",
       "    </tr>\n",
       "    <tr>\n",
       "      <th>392</th>\n",
       "      <td>2.0</td>\n",
       "      <td>2018-08-18</td>\n",
       "      <td>Everton</td>\n",
       "      <td>1.5</td>\n",
       "      <td>2–1</td>\n",
       "      <td>1.7</td>\n",
       "      <td>Southampton</td>\n",
       "      <td>Goodison Park</td>\n",
       "      <td>Lee Mason</td>\n",
       "      <td>2.0</td>\n",
       "      <td>...</td>\n",
       "      <td>False</td>\n",
       "      <td>True</td>\n",
       "      <td>False</td>\n",
       "      <td>False</td>\n",
       "      <td>False</td>\n",
       "      <td>False</td>\n",
       "      <td>2.0</td>\n",
       "      <td>0.0</td>\n",
       "      <td>1.00</td>\n",
       "      <td>1.10</td>\n",
       "    </tr>\n",
       "    <tr>\n",
       "      <th>393</th>\n",
       "      <td>2.0</td>\n",
       "      <td>2018-08-18</td>\n",
       "      <td>Leicester City</td>\n",
       "      <td>0.2</td>\n",
       "      <td>2–0</td>\n",
       "      <td>1.1</td>\n",
       "      <td>Wolves</td>\n",
       "      <td>King Power Stadium</td>\n",
       "      <td>Mike Dean</td>\n",
       "      <td>2.0</td>\n",
       "      <td>...</td>\n",
       "      <td>False</td>\n",
       "      <td>True</td>\n",
       "      <td>False</td>\n",
       "      <td>False</td>\n",
       "      <td>False</td>\n",
       "      <td>False</td>\n",
       "      <td>1.0</td>\n",
       "      <td>2.0</td>\n",
       "      <td>1.80</td>\n",
       "      <td>1.00</td>\n",
       "    </tr>\n",
       "    <tr>\n",
       "      <th>391</th>\n",
       "      <td>2.0</td>\n",
       "      <td>2018-08-18</td>\n",
       "      <td>West Ham</td>\n",
       "      <td>1.2</td>\n",
       "      <td>1–2</td>\n",
       "      <td>1.3</td>\n",
       "      <td>Bournemouth</td>\n",
       "      <td>London Stadium</td>\n",
       "      <td>Stuart Attwell</td>\n",
       "      <td>1.0</td>\n",
       "      <td>...</td>\n",
       "      <td>False</td>\n",
       "      <td>True</td>\n",
       "      <td>False</td>\n",
       "      <td>False</td>\n",
       "      <td>False</td>\n",
       "      <td>False</td>\n",
       "      <td>0.0</td>\n",
       "      <td>2.0</td>\n",
       "      <td>0.70</td>\n",
       "      <td>2.20</td>\n",
       "    </tr>\n",
       "    <tr>\n",
       "      <th>395</th>\n",
       "      <td>2.0</td>\n",
       "      <td>2018-08-18</td>\n",
       "      <td>Chelsea</td>\n",
       "      <td>1.6</td>\n",
       "      <td>3–2</td>\n",
       "      <td>2.4</td>\n",
       "      <td>Arsenal</td>\n",
       "      <td>Stamford Bridge</td>\n",
       "      <td>Martin Atkinson</td>\n",
       "      <td>3.0</td>\n",
       "      <td>...</td>\n",
       "      <td>False</td>\n",
       "      <td>True</td>\n",
       "      <td>False</td>\n",
       "      <td>False</td>\n",
       "      <td>False</td>\n",
       "      <td>False</td>\n",
       "      <td>3.0</td>\n",
       "      <td>0.0</td>\n",
       "      <td>1.90</td>\n",
       "      <td>0.50</td>\n",
       "    </tr>\n",
       "    <tr>\n",
       "      <th>...</th>\n",
       "      <td>...</td>\n",
       "      <td>...</td>\n",
       "      <td>...</td>\n",
       "      <td>...</td>\n",
       "      <td>...</td>\n",
       "      <td>...</td>\n",
       "      <td>...</td>\n",
       "      <td>...</td>\n",
       "      <td>...</td>\n",
       "      <td>...</td>\n",
       "      <td>...</td>\n",
       "      <td>...</td>\n",
       "      <td>...</td>\n",
       "      <td>...</td>\n",
       "      <td>...</td>\n",
       "      <td>...</td>\n",
       "      <td>...</td>\n",
       "      <td>...</td>\n",
       "      <td>...</td>\n",
       "      <td>...</td>\n",
       "      <td>...</td>\n",
       "    </tr>\n",
       "    <tr>\n",
       "      <th>4174</th>\n",
       "      <td>38.0</td>\n",
       "      <td>2024-05-25</td>\n",
       "      <td>Rayo Vallecano</td>\n",
       "      <td>1.1</td>\n",
       "      <td>0–1</td>\n",
       "      <td>0.9</td>\n",
       "      <td>Athletic Club</td>\n",
       "      <td>Estadio del Rayo Vallecano</td>\n",
       "      <td>José Luis Munuera</td>\n",
       "      <td>0.0</td>\n",
       "      <td>...</td>\n",
       "      <td>False</td>\n",
       "      <td>True</td>\n",
       "      <td>False</td>\n",
       "      <td>False</td>\n",
       "      <td>False</td>\n",
       "      <td>False</td>\n",
       "      <td>0.4</td>\n",
       "      <td>1.6</td>\n",
       "      <td>1.36</td>\n",
       "      <td>0.96</td>\n",
       "    </tr>\n",
       "    <tr>\n",
       "      <th>4176</th>\n",
       "      <td>38.0</td>\n",
       "      <td>2024-05-26</td>\n",
       "      <td>Getafe</td>\n",
       "      <td>0.9</td>\n",
       "      <td>1–2</td>\n",
       "      <td>1.4</td>\n",
       "      <td>Mallorca</td>\n",
       "      <td>Coliseum Alfonso Pérez</td>\n",
       "      <td>Víctor García</td>\n",
       "      <td>1.0</td>\n",
       "      <td>...</td>\n",
       "      <td>False</td>\n",
       "      <td>False</td>\n",
       "      <td>True</td>\n",
       "      <td>False</td>\n",
       "      <td>False</td>\n",
       "      <td>False</td>\n",
       "      <td>0.6</td>\n",
       "      <td>1.0</td>\n",
       "      <td>1.52</td>\n",
       "      <td>1.08</td>\n",
       "    </tr>\n",
       "    <tr>\n",
       "      <th>4177</th>\n",
       "      <td>38.0</td>\n",
       "      <td>2024-05-26</td>\n",
       "      <td>Las Palmas</td>\n",
       "      <td>1.0</td>\n",
       "      <td>1–1</td>\n",
       "      <td>2.5</td>\n",
       "      <td>Alavés</td>\n",
       "      <td>Estadio de Gran Canaria</td>\n",
       "      <td>Francisco Hernández</td>\n",
       "      <td>1.0</td>\n",
       "      <td>...</td>\n",
       "      <td>False</td>\n",
       "      <td>False</td>\n",
       "      <td>True</td>\n",
       "      <td>False</td>\n",
       "      <td>False</td>\n",
       "      <td>False</td>\n",
       "      <td>0.4</td>\n",
       "      <td>1.4</td>\n",
       "      <td>1.08</td>\n",
       "      <td>1.46</td>\n",
       "    </tr>\n",
       "    <tr>\n",
       "      <th>4179</th>\n",
       "      <td>38.0</td>\n",
       "      <td>2024-05-26</td>\n",
       "      <td>Sevilla</td>\n",
       "      <td>1.5</td>\n",
       "      <td>1–2</td>\n",
       "      <td>1.3</td>\n",
       "      <td>Barcelona</td>\n",
       "      <td>Estadio Ramón Sánchez Pizjuán</td>\n",
       "      <td>Javier Villanueva</td>\n",
       "      <td>1.0</td>\n",
       "      <td>...</td>\n",
       "      <td>False</td>\n",
       "      <td>False</td>\n",
       "      <td>True</td>\n",
       "      <td>False</td>\n",
       "      <td>False</td>\n",
       "      <td>False</td>\n",
       "      <td>1.2</td>\n",
       "      <td>2.6</td>\n",
       "      <td>1.40</td>\n",
       "      <td>1.96</td>\n",
       "    </tr>\n",
       "    <tr>\n",
       "      <th>4178</th>\n",
       "      <td>38.0</td>\n",
       "      <td>2024-05-26</td>\n",
       "      <td>Celta Vigo</td>\n",
       "      <td>1.5</td>\n",
       "      <td>2–2</td>\n",
       "      <td>2.0</td>\n",
       "      <td>Valencia</td>\n",
       "      <td>Estadio Abanca Balaídos</td>\n",
       "      <td>Miguel Ángel Ortiz Arias</td>\n",
       "      <td>2.0</td>\n",
       "      <td>...</td>\n",
       "      <td>False</td>\n",
       "      <td>False</td>\n",
       "      <td>True</td>\n",
       "      <td>False</td>\n",
       "      <td>False</td>\n",
       "      <td>False</td>\n",
       "      <td>1.4</td>\n",
       "      <td>0.6</td>\n",
       "      <td>1.38</td>\n",
       "      <td>1.66</td>\n",
       "    </tr>\n",
       "  </tbody>\n",
       "</table>\n",
       "<p>4525 rows × 24 columns</p>\n",
       "</div>"
      ],
      "text/plain": [
       "        Wk       Date            Home   xG Score  xG.1           Away  \\\n",
       "390    2.0 2018-08-18    Cardiff City  0.9   0–0   1.6  Newcastle Utd   \n",
       "392    2.0 2018-08-18         Everton  1.5   2–1   1.7    Southampton   \n",
       "393    2.0 2018-08-18  Leicester City  0.2   2–0   1.1         Wolves   \n",
       "391    2.0 2018-08-18        West Ham  1.2   1–2   1.3    Bournemouth   \n",
       "395    2.0 2018-08-18         Chelsea  1.6   3–2   2.4        Arsenal   \n",
       "...    ...        ...             ...  ...   ...   ...            ...   \n",
       "4174  38.0 2024-05-25  Rayo Vallecano  1.1   0–1   0.9  Athletic Club   \n",
       "4176  38.0 2024-05-26          Getafe  0.9   1–2   1.4       Mallorca   \n",
       "4177  38.0 2024-05-26      Las Palmas  1.0   1–1   2.5         Alavés   \n",
       "4179  38.0 2024-05-26         Sevilla  1.5   1–2   1.3      Barcelona   \n",
       "4178  38.0 2024-05-26      Celta Vigo  1.5   2–2   2.0       Valencia   \n",
       "\n",
       "                              Venue                   Referee  home_goals  \\\n",
       "390            Cardiff City Stadium              Craig Pawson         0.0   \n",
       "392                   Goodison Park                 Lee Mason         2.0   \n",
       "393              King Power Stadium                 Mike Dean         2.0   \n",
       "391                  London Stadium            Stuart Attwell         1.0   \n",
       "395                 Stamford Bridge           Martin Atkinson         3.0   \n",
       "...                             ...                       ...         ...   \n",
       "4174     Estadio del Rayo Vallecano         José Luis Munuera         0.0   \n",
       "4176         Coliseum Alfonso Pérez             Víctor García         1.0   \n",
       "4177        Estadio de Gran Canaria       Francisco Hernández         1.0   \n",
       "4179  Estadio Ramón Sánchez Pizjuán         Javier Villanueva         1.0   \n",
       "4178        Estadio Abanca Balaídos  Miguel Ángel Ortiz Arias         2.0   \n",
       "\n",
       "      ...  Day_Monday  Day_Saturday Day_Sunday  Day_Thursday  Day_Tuesday  \\\n",
       "390   ...       False          True      False         False        False   \n",
       "392   ...       False          True      False         False        False   \n",
       "393   ...       False          True      False         False        False   \n",
       "391   ...       False          True      False         False        False   \n",
       "395   ...       False          True      False         False        False   \n",
       "...   ...         ...           ...        ...           ...          ...   \n",
       "4174  ...       False          True      False         False        False   \n",
       "4176  ...       False         False       True         False        False   \n",
       "4177  ...       False         False       True         False        False   \n",
       "4179  ...       False         False       True         False        False   \n",
       "4178  ...       False         False       True         False        False   \n",
       "\n",
       "      Day_Wednesday  home_rolling_avg_goals  away_rolling_avg_goals  \\\n",
       "390           False                     0.0                     1.0   \n",
       "392           False                     2.0                     0.0   \n",
       "393           False                     1.0                     2.0   \n",
       "391           False                     0.0                     2.0   \n",
       "395           False                     3.0                     0.0   \n",
       "...             ...                     ...                     ...   \n",
       "4174          False                     0.4                     1.6   \n",
       "4176          False                     0.6                     1.0   \n",
       "4177          False                     0.4                     1.4   \n",
       "4179          False                     1.2                     2.6   \n",
       "4178          False                     1.4                     0.6   \n",
       "\n",
       "      home_rolling_avg_xG  away_rolling_avg_xG  \n",
       "390                  1.40                 1.00  \n",
       "392                  1.00                 1.10  \n",
       "393                  1.80                 1.00  \n",
       "391                  0.70                 2.20  \n",
       "395                  1.90                 0.50  \n",
       "...                   ...                  ...  \n",
       "4174                 1.36                 0.96  \n",
       "4176                 1.52                 1.08  \n",
       "4177                 1.08                 1.46  \n",
       "4179                 1.40                 1.96  \n",
       "4178                 1.38                 1.66  \n",
       "\n",
       "[4525 rows x 24 columns]"
      ]
     },
     "execution_count": 91,
     "metadata": {},
     "output_type": "execute_result"
    }
   ],
   "source": [
    "df"
   ]
  },
  {
   "cell_type": "code",
   "execution_count": 92,
   "id": "808e35239748d593",
   "metadata": {
    "ExecuteTime": {
     "end_time": "2024-04-18T12:54:35.367671Z",
     "start_time": "2024-04-18T12:54:35.335479Z"
    },
    "jupyter": {
     "outputs_hidden": false
    }
   },
   "outputs": [],
   "source": [
    "# Define the features and target variable\n",
    "features = [column for column in df.drop(columns=['Date', 'xG', 'xG.1', 'Home', 'Away', 'Referee', 'Venue', 'Score', 'result', 'home_goals', 'away_goals', 'season_start']).columns]\n",
    "\n",
    "# Split the data into train and test sets, The dataset is split into training data (for seasons up to 2022) and test data (for the 2023 season).\n",
    "\n",
    "train_data = df[df['season_start'] <= 2022]\n",
    "test_data = df[df['season_start'] == 2023]\n",
    "\n",
    "X_train = train_data[features]\n",
    "y_train = train_data['result']\n",
    "X_test = test_data[features]\n",
    "y_test = test_data['result']\n"
   ]
  },
  {
   "cell_type": "code",
   "execution_count": 93,
   "id": "dfcd3eda",
   "metadata": {},
   "outputs": [
    {
     "name": "stdout",
     "output_type": "stream",
     "text": [
      "Wk                        float64\n",
      "Day_Friday                   bool\n",
      "Day_Monday                   bool\n",
      "Day_Saturday                 bool\n",
      "Day_Sunday                   bool\n",
      "Day_Thursday                 bool\n",
      "Day_Tuesday                  bool\n",
      "Day_Wednesday                bool\n",
      "home_rolling_avg_goals    float64\n",
      "away_rolling_avg_goals    float64\n",
      "home_rolling_avg_xG       float64\n",
      "away_rolling_avg_xG       float64\n",
      "dtype: object\n",
      "      Wk  Day_Friday  Day_Monday  Day_Saturday  Day_Sunday  Day_Thursday  \\\n",
      "390  2.0       False       False          True       False         False   \n",
      "392  2.0       False       False          True       False         False   \n",
      "393  2.0       False       False          True       False         False   \n",
      "391  2.0       False       False          True       False         False   \n",
      "395  2.0       False       False          True       False         False   \n",
      "\n",
      "     Day_Tuesday  Day_Wednesday  home_rolling_avg_goals  \\\n",
      "390        False          False                     0.0   \n",
      "392        False          False                     2.0   \n",
      "393        False          False                     1.0   \n",
      "391        False          False                     0.0   \n",
      "395        False          False                     3.0   \n",
      "\n",
      "     away_rolling_avg_goals  home_rolling_avg_xG  away_rolling_avg_xG  \n",
      "390                     1.0                  1.4                  1.0  \n",
      "392                     0.0                  1.0                  1.1  \n",
      "393                     2.0                  1.8                  1.0  \n",
      "391                     2.0                  0.7                  2.2  \n",
      "395                     0.0                  1.9                  0.5  \n"
     ]
    }
   ],
   "source": [
    "# Check the data types of X_train\n",
    "print(X_train.dtypes)\n",
    "\n",
    "# Display the first few rows of X_train to identify any non-numeric values\n",
    "print(X_train.head())\n",
    "\n"
   ]
  },
  {
   "cell_type": "code",
   "execution_count": 94,
   "id": "9dda3a47e3155a66",
   "metadata": {
    "ExecuteTime": {
     "end_time": "2024-04-18T12:54:37.036284Z",
     "start_time": "2024-04-18T12:54:36.647138Z"
    },
    "jupyter": {
     "outputs_hidden": false
    }
   },
   "outputs": [
    {
     "data": {
      "text/html": [
       "<style>#sk-container-id-3 {color: black;}#sk-container-id-3 pre{padding: 0;}#sk-container-id-3 div.sk-toggleable {background-color: white;}#sk-container-id-3 label.sk-toggleable__label {cursor: pointer;display: block;width: 100%;margin-bottom: 0;padding: 0.3em;box-sizing: border-box;text-align: center;}#sk-container-id-3 label.sk-toggleable__label-arrow:before {content: \"▸\";float: left;margin-right: 0.25em;color: #696969;}#sk-container-id-3 label.sk-toggleable__label-arrow:hover:before {color: black;}#sk-container-id-3 div.sk-estimator:hover label.sk-toggleable__label-arrow:before {color: black;}#sk-container-id-3 div.sk-toggleable__content {max-height: 0;max-width: 0;overflow: hidden;text-align: left;background-color: #f0f8ff;}#sk-container-id-3 div.sk-toggleable__content pre {margin: 0.2em;color: black;border-radius: 0.25em;background-color: #f0f8ff;}#sk-container-id-3 input.sk-toggleable__control:checked~div.sk-toggleable__content {max-height: 200px;max-width: 100%;overflow: auto;}#sk-container-id-3 input.sk-toggleable__control:checked~label.sk-toggleable__label-arrow:before {content: \"▾\";}#sk-container-id-3 div.sk-estimator input.sk-toggleable__control:checked~label.sk-toggleable__label {background-color: #d4ebff;}#sk-container-id-3 div.sk-label input.sk-toggleable__control:checked~label.sk-toggleable__label {background-color: #d4ebff;}#sk-container-id-3 input.sk-hidden--visually {border: 0;clip: rect(1px 1px 1px 1px);clip: rect(1px, 1px, 1px, 1px);height: 1px;margin: -1px;overflow: hidden;padding: 0;position: absolute;width: 1px;}#sk-container-id-3 div.sk-estimator {font-family: monospace;background-color: #f0f8ff;border: 1px dotted black;border-radius: 0.25em;box-sizing: border-box;margin-bottom: 0.5em;}#sk-container-id-3 div.sk-estimator:hover {background-color: #d4ebff;}#sk-container-id-3 div.sk-parallel-item::after {content: \"\";width: 100%;border-bottom: 1px solid gray;flex-grow: 1;}#sk-container-id-3 div.sk-label:hover label.sk-toggleable__label {background-color: #d4ebff;}#sk-container-id-3 div.sk-serial::before {content: \"\";position: absolute;border-left: 1px solid gray;box-sizing: border-box;top: 0;bottom: 0;left: 50%;z-index: 0;}#sk-container-id-3 div.sk-serial {display: flex;flex-direction: column;align-items: center;background-color: white;padding-right: 0.2em;padding-left: 0.2em;position: relative;}#sk-container-id-3 div.sk-item {position: relative;z-index: 1;}#sk-container-id-3 div.sk-parallel {display: flex;align-items: stretch;justify-content: center;background-color: white;position: relative;}#sk-container-id-3 div.sk-item::before, #sk-container-id-3 div.sk-parallel-item::before {content: \"\";position: absolute;border-left: 1px solid gray;box-sizing: border-box;top: 0;bottom: 0;left: 50%;z-index: -1;}#sk-container-id-3 div.sk-parallel-item {display: flex;flex-direction: column;z-index: 1;position: relative;background-color: white;}#sk-container-id-3 div.sk-parallel-item:first-child::after {align-self: flex-end;width: 50%;}#sk-container-id-3 div.sk-parallel-item:last-child::after {align-self: flex-start;width: 50%;}#sk-container-id-3 div.sk-parallel-item:only-child::after {width: 0;}#sk-container-id-3 div.sk-dashed-wrapped {border: 1px dashed gray;margin: 0 0.4em 0.5em 0.4em;box-sizing: border-box;padding-bottom: 0.4em;background-color: white;}#sk-container-id-3 div.sk-label label {font-family: monospace;font-weight: bold;display: inline-block;line-height: 1.2em;}#sk-container-id-3 div.sk-label-container {text-align: center;}#sk-container-id-3 div.sk-container {/* jupyter's `normalize.less` sets `[hidden] { display: none; }` but bootstrap.min.css set `[hidden] { display: none !important; }` so we also need the `!important` here to be able to override the default hidden behavior on the sphinx rendered scikit-learn.org. See: https://github.com/scikit-learn/scikit-learn/issues/21755 */display: inline-block !important;position: relative;}#sk-container-id-3 div.sk-text-repr-fallback {display: none;}</style><div id=\"sk-container-id-3\" class=\"sk-top-container\"><div class=\"sk-text-repr-fallback\"><pre>RandomForestClassifier(random_state=1)</pre><b>In a Jupyter environment, please rerun this cell to show the HTML representation or trust the notebook. <br />On GitHub, the HTML representation is unable to render, please try loading this page with nbviewer.org.</b></div><div class=\"sk-container\" hidden><div class=\"sk-item\"><div class=\"sk-estimator sk-toggleable\"><input class=\"sk-toggleable__control sk-hidden--visually\" id=\"sk-estimator-id-5\" type=\"checkbox\" checked><label for=\"sk-estimator-id-5\" class=\"sk-toggleable__label sk-toggleable__label-arrow\">RandomForestClassifier</label><div class=\"sk-toggleable__content\"><pre>RandomForestClassifier(random_state=1)</pre></div></div></div></div></div>"
      ],
      "text/plain": [
       "RandomForestClassifier(random_state=1)"
      ]
     },
     "execution_count": 94,
     "metadata": {},
     "output_type": "execute_result"
    }
   ],
   "source": [
    "# Train a Random Forest model\n",
    "clf = RandomForestClassifier(random_state=1)\n",
    "clf.fit(X_train, y_train)"
   ]
  },
  {
   "cell_type": "code",
   "execution_count": 95,
   "id": "6ab046f6c619de09",
   "metadata": {
    "ExecuteTime": {
     "end_time": "2024-04-18T12:54:38.607008Z",
     "start_time": "2024-04-18T12:54:38.551122Z"
    },
    "jupyter": {
     "outputs_hidden": false
    }
   },
   "outputs": [],
   "source": [
    "# Make predictions\n",
    "predictions = clf.predict(X_test)"
   ]
  },
  {
   "cell_type": "code",
   "execution_count": 97,
   "id": "e6561c7c259c9297",
   "metadata": {
    "ExecuteTime": {
     "end_time": "2024-04-18T12:54:39.560821Z",
     "start_time": "2024-04-18T12:54:39.513643Z"
    },
    "jupyter": {
     "outputs_hidden": false
    }
   },
   "outputs": [
    {
     "data": {
      "text/plain": [
       "0.44591029023746703"
      ]
     },
     "execution_count": 97,
     "metadata": {},
     "output_type": "execute_result"
    }
   ],
   "source": [
    "# Evaluate the model\n",
    "accuracy = accuracy_score(y_test, predictions)\n",
    "accuracy"
   ]
  },
  {
   "cell_type": "code",
   "execution_count": 98,
   "id": "603db59c0893e477",
   "metadata": {
    "ExecuteTime": {
     "end_time": "2024-04-18T12:54:41.647870Z",
     "start_time": "2024-04-18T12:54:41.641340Z"
    },
    "jupyter": {
     "outputs_hidden": false
    }
   },
   "outputs": [
    {
     "data": {
      "text/plain": [
       "array([[ 90,  27, 112],\n",
       "       [ 64,  17, 107],\n",
       "       [ 83,  27, 231]], dtype=int64)"
      ]
     },
     "execution_count": 98,
     "metadata": {},
     "output_type": "execute_result"
    }
   ],
   "source": [
    "# confusion matrix\n",
    "confusion_matrix(y_test, predictions)"
   ]
  },
  {
   "cell_type": "code",
   "execution_count": 99,
   "id": "a7b6e0bcf23b32f6",
   "metadata": {
    "ExecuteTime": {
     "end_time": "2024-04-18T12:54:43.742650Z",
     "start_time": "2024-04-18T12:54:43.722708Z"
    },
    "jupyter": {
     "outputs_hidden": false
    }
   },
   "outputs": [
    {
     "data": {
      "text/plain": [
       "result\n",
       "Home win    0.446188\n",
       "Away win    0.304972\n",
       "Draw        0.248840\n",
       "Name: proportion, dtype: float64"
      ]
     },
     "execution_count": 99,
     "metadata": {},
     "output_type": "execute_result"
    }
   ],
   "source": [
    "# Our baseline model has an accuracy of\n",
    "df['result'].value_counts(normalize=True)"
   ]
  },
  {
   "cell_type": "markdown",
   "id": "b314e7d007880bc0",
   "metadata": {
    "jupyter": {
     "outputs_hidden": false
    }
   },
   "source": []
  },
  {
   "cell_type": "code",
   "execution_count": 100,
   "id": "3ff4e56b8ed37a11",
   "metadata": {
    "ExecuteTime": {
     "end_time": "2024-04-18T12:55:22.358127Z",
     "start_time": "2024-04-18T12:55:06.506505Z"
    },
    "jupyter": {
     "outputs_hidden": false
    }
   },
   "outputs": [
    {
     "data": {
      "text/html": [
       "<style>#sk-container-id-4 {color: black;}#sk-container-id-4 pre{padding: 0;}#sk-container-id-4 div.sk-toggleable {background-color: white;}#sk-container-id-4 label.sk-toggleable__label {cursor: pointer;display: block;width: 100%;margin-bottom: 0;padding: 0.3em;box-sizing: border-box;text-align: center;}#sk-container-id-4 label.sk-toggleable__label-arrow:before {content: \"▸\";float: left;margin-right: 0.25em;color: #696969;}#sk-container-id-4 label.sk-toggleable__label-arrow:hover:before {color: black;}#sk-container-id-4 div.sk-estimator:hover label.sk-toggleable__label-arrow:before {color: black;}#sk-container-id-4 div.sk-toggleable__content {max-height: 0;max-width: 0;overflow: hidden;text-align: left;background-color: #f0f8ff;}#sk-container-id-4 div.sk-toggleable__content pre {margin: 0.2em;color: black;border-radius: 0.25em;background-color: #f0f8ff;}#sk-container-id-4 input.sk-toggleable__control:checked~div.sk-toggleable__content {max-height: 200px;max-width: 100%;overflow: auto;}#sk-container-id-4 input.sk-toggleable__control:checked~label.sk-toggleable__label-arrow:before {content: \"▾\";}#sk-container-id-4 div.sk-estimator input.sk-toggleable__control:checked~label.sk-toggleable__label {background-color: #d4ebff;}#sk-container-id-4 div.sk-label input.sk-toggleable__control:checked~label.sk-toggleable__label {background-color: #d4ebff;}#sk-container-id-4 input.sk-hidden--visually {border: 0;clip: rect(1px 1px 1px 1px);clip: rect(1px, 1px, 1px, 1px);height: 1px;margin: -1px;overflow: hidden;padding: 0;position: absolute;width: 1px;}#sk-container-id-4 div.sk-estimator {font-family: monospace;background-color: #f0f8ff;border: 1px dotted black;border-radius: 0.25em;box-sizing: border-box;margin-bottom: 0.5em;}#sk-container-id-4 div.sk-estimator:hover {background-color: #d4ebff;}#sk-container-id-4 div.sk-parallel-item::after {content: \"\";width: 100%;border-bottom: 1px solid gray;flex-grow: 1;}#sk-container-id-4 div.sk-label:hover label.sk-toggleable__label {background-color: #d4ebff;}#sk-container-id-4 div.sk-serial::before {content: \"\";position: absolute;border-left: 1px solid gray;box-sizing: border-box;top: 0;bottom: 0;left: 50%;z-index: 0;}#sk-container-id-4 div.sk-serial {display: flex;flex-direction: column;align-items: center;background-color: white;padding-right: 0.2em;padding-left: 0.2em;position: relative;}#sk-container-id-4 div.sk-item {position: relative;z-index: 1;}#sk-container-id-4 div.sk-parallel {display: flex;align-items: stretch;justify-content: center;background-color: white;position: relative;}#sk-container-id-4 div.sk-item::before, #sk-container-id-4 div.sk-parallel-item::before {content: \"\";position: absolute;border-left: 1px solid gray;box-sizing: border-box;top: 0;bottom: 0;left: 50%;z-index: -1;}#sk-container-id-4 div.sk-parallel-item {display: flex;flex-direction: column;z-index: 1;position: relative;background-color: white;}#sk-container-id-4 div.sk-parallel-item:first-child::after {align-self: flex-end;width: 50%;}#sk-container-id-4 div.sk-parallel-item:last-child::after {align-self: flex-start;width: 50%;}#sk-container-id-4 div.sk-parallel-item:only-child::after {width: 0;}#sk-container-id-4 div.sk-dashed-wrapped {border: 1px dashed gray;margin: 0 0.4em 0.5em 0.4em;box-sizing: border-box;padding-bottom: 0.4em;background-color: white;}#sk-container-id-4 div.sk-label label {font-family: monospace;font-weight: bold;display: inline-block;line-height: 1.2em;}#sk-container-id-4 div.sk-label-container {text-align: center;}#sk-container-id-4 div.sk-container {/* jupyter's `normalize.less` sets `[hidden] { display: none; }` but bootstrap.min.css set `[hidden] { display: none !important; }` so we also need the `!important` here to be able to override the default hidden behavior on the sphinx rendered scikit-learn.org. See: https://github.com/scikit-learn/scikit-learn/issues/21755 */display: inline-block !important;position: relative;}#sk-container-id-4 div.sk-text-repr-fallback {display: none;}</style><div id=\"sk-container-id-4\" class=\"sk-top-container\"><div class=\"sk-text-repr-fallback\"><pre>GridSearchCV(cv=5, estimator=RandomForestClassifier(random_state=1),\n",
       "             param_grid={&#x27;max_depth&#x27;: [5, 10, 15, 20],\n",
       "                         &#x27;n_estimators&#x27;: [50, 100, 200]})</pre><b>In a Jupyter environment, please rerun this cell to show the HTML representation or trust the notebook. <br />On GitHub, the HTML representation is unable to render, please try loading this page with nbviewer.org.</b></div><div class=\"sk-container\" hidden><div class=\"sk-item sk-dashed-wrapped\"><div class=\"sk-label-container\"><div class=\"sk-label sk-toggleable\"><input class=\"sk-toggleable__control sk-hidden--visually\" id=\"sk-estimator-id-6\" type=\"checkbox\" ><label for=\"sk-estimator-id-6\" class=\"sk-toggleable__label sk-toggleable__label-arrow\">GridSearchCV</label><div class=\"sk-toggleable__content\"><pre>GridSearchCV(cv=5, estimator=RandomForestClassifier(random_state=1),\n",
       "             param_grid={&#x27;max_depth&#x27;: [5, 10, 15, 20],\n",
       "                         &#x27;n_estimators&#x27;: [50, 100, 200]})</pre></div></div></div><div class=\"sk-parallel\"><div class=\"sk-parallel-item\"><div class=\"sk-item\"><div class=\"sk-label-container\"><div class=\"sk-label sk-toggleable\"><input class=\"sk-toggleable__control sk-hidden--visually\" id=\"sk-estimator-id-7\" type=\"checkbox\" ><label for=\"sk-estimator-id-7\" class=\"sk-toggleable__label sk-toggleable__label-arrow\">estimator: RandomForestClassifier</label><div class=\"sk-toggleable__content\"><pre>RandomForestClassifier(random_state=1)</pre></div></div></div><div class=\"sk-serial\"><div class=\"sk-item\"><div class=\"sk-estimator sk-toggleable\"><input class=\"sk-toggleable__control sk-hidden--visually\" id=\"sk-estimator-id-8\" type=\"checkbox\" ><label for=\"sk-estimator-id-8\" class=\"sk-toggleable__label sk-toggleable__label-arrow\">RandomForestClassifier</label><div class=\"sk-toggleable__content\"><pre>RandomForestClassifier(random_state=1)</pre></div></div></div></div></div></div></div></div></div></div>"
      ],
      "text/plain": [
       "GridSearchCV(cv=5, estimator=RandomForestClassifier(random_state=1),\n",
       "             param_grid={'max_depth': [5, 10, 15, 20],\n",
       "                         'n_estimators': [50, 100, 200]})"
      ]
     },
     "execution_count": 100,
     "metadata": {},
     "output_type": "execute_result"
    }
   ],
   "source": [
    "# using GridSearchCV to tune the hyperparameters of your Random Forest model. This approach will help us to find the best combination of parameters to improve the model's performance.\n",
    "from sklearn.model_selection import GridSearchCV\n",
    "\n",
    "param_grid = {\n",
    "    'n_estimators': [50, 100, 200], # The number of trees in the forest.\n",
    "    'max_depth': [5, 10, 15, 20] #The maximum depth of the trees.\n",
    "}\n",
    "\n",
    "grid_search = GridSearchCV(estimator=clf, param_grid=param_grid, cv=5)\n",
    "grid_search.fit(X_train, y_train)"
   ]
  },
  {
   "cell_type": "code",
   "execution_count": 101,
   "id": "b6b20887ea1281b8",
   "metadata": {
    "ExecuteTime": {
     "end_time": "2024-04-18T12:55:25.214594Z",
     "start_time": "2024-04-18T12:55:25.208914Z"
    },
    "jupyter": {
     "outputs_hidden": false
    }
   },
   "outputs": [
    {
     "data": {
      "text/plain": [
       "{'max_depth': 5, 'n_estimators': 200}"
      ]
     },
     "execution_count": 101,
     "metadata": {},
     "output_type": "execute_result"
    }
   ],
   "source": [
    "grid_search.best_params_"
   ]
  },
  {
   "cell_type": "code",
   "execution_count": 102,
   "id": "fb3ac74c10f08955",
   "metadata": {
    "ExecuteTime": {
     "end_time": "2024-04-18T12:55:30.125458Z",
     "start_time": "2024-04-18T12:55:29.841390Z"
    },
    "jupyter": {
     "outputs_hidden": false
    }
   },
   "outputs": [
    {
     "data": {
      "text/plain": [
       "0.5026385224274407"
      ]
     },
     "execution_count": 102,
     "metadata": {},
     "output_type": "execute_result"
    }
   ],
   "source": [
    "# Train a Random Forest model with the best hyperparameters\n",
    "clf = RandomForestClassifier(random_state=1, n_estimators=200, max_depth=5)\n",
    "clf.fit(X_train, y_train)\n",
    "\n",
    "# Make predictions\n",
    "predictions = clf.predict(X_test)\n",
    "\n",
    "# Evaluate the model\n",
    "accuracy = accuracy_score(y_test, predictions)\n",
    "accuracy"
   ]
  },
  {
   "cell_type": "markdown",
   "id": "b68b0d7321b0d7f1",
   "metadata": {
    "jupyter": {
     "outputs_hidden": false
    }
   },
   "source": [
    "The accuracy of the model has increased after tuning the hyperparameters!\n"
   ]
  },
  {
   "cell_type": "code",
   "execution_count": 103,
   "id": "dfe70f955f5545fb",
   "metadata": {
    "ExecuteTime": {
     "end_time": "2024-04-18T12:57:09.610107Z",
     "start_time": "2024-04-18T12:57:09.570261Z"
    },
    "jupyter": {
     "outputs_hidden": false
    }
   },
   "outputs": [
    {
     "data": {
      "text/html": [
       "<div>\n",
       "<style scoped>\n",
       "    .dataframe tbody tr th:only-of-type {\n",
       "        vertical-align: middle;\n",
       "    }\n",
       "\n",
       "    .dataframe tbody tr th {\n",
       "        vertical-align: top;\n",
       "    }\n",
       "\n",
       "    .dataframe thead th {\n",
       "        text-align: right;\n",
       "    }\n",
       "</style>\n",
       "<table border=\"1\" class=\"dataframe\">\n",
       "  <thead>\n",
       "    <tr style=\"text-align: right;\">\n",
       "      <th></th>\n",
       "      <th>Wk</th>\n",
       "      <th>Date</th>\n",
       "      <th>xG</th>\n",
       "      <th>Score</th>\n",
       "      <th>xG.1</th>\n",
       "      <th>home_goals</th>\n",
       "      <th>away_goals</th>\n",
       "      <th>season_start</th>\n",
       "      <th>result</th>\n",
       "      <th>Day_Friday</th>\n",
       "      <th>...</th>\n",
       "      <th>Venue_The American Express Community Stadium</th>\n",
       "      <th>Venue_The City Ground</th>\n",
       "      <th>Venue_The Hawthorns</th>\n",
       "      <th>Venue_The John Smith's Stadium</th>\n",
       "      <th>Venue_Tottenham Hotspur Stadium</th>\n",
       "      <th>Venue_Turf Moor</th>\n",
       "      <th>Venue_Vicarage Road Stadium</th>\n",
       "      <th>Venue_Villa Park</th>\n",
       "      <th>Venue_Vitality Stadium</th>\n",
       "      <th>Venue_Wembley Stadium</th>\n",
       "    </tr>\n",
       "  </thead>\n",
       "  <tbody>\n",
       "    <tr>\n",
       "      <th>390</th>\n",
       "      <td>2.0</td>\n",
       "      <td>2018-08-18</td>\n",
       "      <td>0.9</td>\n",
       "      <td>0–0</td>\n",
       "      <td>1.6</td>\n",
       "      <td>0.0</td>\n",
       "      <td>0.0</td>\n",
       "      <td>2018</td>\n",
       "      <td>Draw</td>\n",
       "      <td>False</td>\n",
       "      <td>...</td>\n",
       "      <td>False</td>\n",
       "      <td>False</td>\n",
       "      <td>False</td>\n",
       "      <td>False</td>\n",
       "      <td>False</td>\n",
       "      <td>False</td>\n",
       "      <td>False</td>\n",
       "      <td>False</td>\n",
       "      <td>False</td>\n",
       "      <td>False</td>\n",
       "    </tr>\n",
       "    <tr>\n",
       "      <th>392</th>\n",
       "      <td>2.0</td>\n",
       "      <td>2018-08-18</td>\n",
       "      <td>1.5</td>\n",
       "      <td>2–1</td>\n",
       "      <td>1.7</td>\n",
       "      <td>2.0</td>\n",
       "      <td>1.0</td>\n",
       "      <td>2018</td>\n",
       "      <td>Home win</td>\n",
       "      <td>False</td>\n",
       "      <td>...</td>\n",
       "      <td>False</td>\n",
       "      <td>False</td>\n",
       "      <td>False</td>\n",
       "      <td>False</td>\n",
       "      <td>False</td>\n",
       "      <td>False</td>\n",
       "      <td>False</td>\n",
       "      <td>False</td>\n",
       "      <td>False</td>\n",
       "      <td>False</td>\n",
       "    </tr>\n",
       "    <tr>\n",
       "      <th>393</th>\n",
       "      <td>2.0</td>\n",
       "      <td>2018-08-18</td>\n",
       "      <td>0.2</td>\n",
       "      <td>2–0</td>\n",
       "      <td>1.1</td>\n",
       "      <td>2.0</td>\n",
       "      <td>0.0</td>\n",
       "      <td>2018</td>\n",
       "      <td>Home win</td>\n",
       "      <td>False</td>\n",
       "      <td>...</td>\n",
       "      <td>False</td>\n",
       "      <td>False</td>\n",
       "      <td>False</td>\n",
       "      <td>False</td>\n",
       "      <td>False</td>\n",
       "      <td>False</td>\n",
       "      <td>False</td>\n",
       "      <td>False</td>\n",
       "      <td>False</td>\n",
       "      <td>False</td>\n",
       "    </tr>\n",
       "    <tr>\n",
       "      <th>391</th>\n",
       "      <td>2.0</td>\n",
       "      <td>2018-08-18</td>\n",
       "      <td>1.2</td>\n",
       "      <td>1–2</td>\n",
       "      <td>1.3</td>\n",
       "      <td>1.0</td>\n",
       "      <td>2.0</td>\n",
       "      <td>2018</td>\n",
       "      <td>Away win</td>\n",
       "      <td>False</td>\n",
       "      <td>...</td>\n",
       "      <td>False</td>\n",
       "      <td>False</td>\n",
       "      <td>False</td>\n",
       "      <td>False</td>\n",
       "      <td>False</td>\n",
       "      <td>False</td>\n",
       "      <td>False</td>\n",
       "      <td>False</td>\n",
       "      <td>False</td>\n",
       "      <td>False</td>\n",
       "    </tr>\n",
       "    <tr>\n",
       "      <th>395</th>\n",
       "      <td>2.0</td>\n",
       "      <td>2018-08-18</td>\n",
       "      <td>1.6</td>\n",
       "      <td>3–2</td>\n",
       "      <td>2.4</td>\n",
       "      <td>3.0</td>\n",
       "      <td>2.0</td>\n",
       "      <td>2018</td>\n",
       "      <td>Home win</td>\n",
       "      <td>False</td>\n",
       "      <td>...</td>\n",
       "      <td>False</td>\n",
       "      <td>False</td>\n",
       "      <td>False</td>\n",
       "      <td>False</td>\n",
       "      <td>False</td>\n",
       "      <td>False</td>\n",
       "      <td>False</td>\n",
       "      <td>False</td>\n",
       "      <td>False</td>\n",
       "      <td>False</td>\n",
       "    </tr>\n",
       "  </tbody>\n",
       "</table>\n",
       "<p>5 rows × 266 columns</p>\n",
       "</div>"
      ],
      "text/plain": [
       "      Wk       Date   xG Score  xG.1  home_goals  away_goals  season_start  \\\n",
       "390  2.0 2018-08-18  0.9   0–0   1.6         0.0         0.0          2018   \n",
       "392  2.0 2018-08-18  1.5   2–1   1.7         2.0         1.0          2018   \n",
       "393  2.0 2018-08-18  0.2   2–0   1.1         2.0         0.0          2018   \n",
       "391  2.0 2018-08-18  1.2   1–2   1.3         1.0         2.0          2018   \n",
       "395  2.0 2018-08-18  1.6   3–2   2.4         3.0         2.0          2018   \n",
       "\n",
       "       result  Day_Friday  ...  Venue_The American Express Community Stadium  \\\n",
       "390      Draw       False  ...                                         False   \n",
       "392  Home win       False  ...                                         False   \n",
       "393  Home win       False  ...                                         False   \n",
       "391  Away win       False  ...                                         False   \n",
       "395  Home win       False  ...                                         False   \n",
       "\n",
       "     Venue_The City Ground  Venue_The Hawthorns  \\\n",
       "390                  False                False   \n",
       "392                  False                False   \n",
       "393                  False                False   \n",
       "391                  False                False   \n",
       "395                  False                False   \n",
       "\n",
       "     Venue_The John Smith's Stadium  Venue_Tottenham Hotspur Stadium  \\\n",
       "390                           False                            False   \n",
       "392                           False                            False   \n",
       "393                           False                            False   \n",
       "391                           False                            False   \n",
       "395                           False                            False   \n",
       "\n",
       "     Venue_Turf Moor  Venue_Vicarage Road Stadium  Venue_Villa Park  \\\n",
       "390            False                        False             False   \n",
       "392            False                        False             False   \n",
       "393            False                        False             False   \n",
       "391            False                        False             False   \n",
       "395            False                        False             False   \n",
       "\n",
       "     Venue_Vitality Stadium  Venue_Wembley Stadium  \n",
       "390                   False                  False  \n",
       "392                   False                  False  \n",
       "393                   False                  False  \n",
       "391                   False                  False  \n",
       "395                   False                  False  \n",
       "\n",
       "[5 rows x 266 columns]"
      ]
     },
     "execution_count": 103,
     "metadata": {},
     "output_type": "execute_result"
    }
   ],
   "source": [
    "#converts categorical variables (Home, Away, Referee, Venue) into dummy/indicator variables. This is necessary because most machine learning algorithms, including Random Forests, require numerical input.\n",
    "df = pd.get_dummies(df, columns=['Home', 'Away', 'Referee', 'Venue'])\n",
    "df.head()"
   ]
  },
  {
   "cell_type": "code",
   "execution_count": 104,
   "id": "4ec4b16dc4abc4b9",
   "metadata": {
    "ExecuteTime": {
     "end_time": "2024-04-18T12:58:17.999961Z",
     "start_time": "2024-04-18T12:58:17.975882Z"
    },
    "jupyter": {
     "outputs_hidden": false
    }
   },
   "outputs": [],
   "source": [
    "# Define the features and target variable\n",
    "features = [column for column in df.drop(columns=['Date', 'xG', 'xG.1', 'Score', 'result', 'home_goals', 'away_goals', 'season_start']).columns]\n",
    "\n",
    "# Split the data into train and test sets\n",
    "train_data = df[df['season_start'] <= 2022]\n",
    "test_data = df[df['season_start'] == 2023]\n",
    "\n",
    "X_train = train_data[features]\n",
    "y_train = train_data['result']\n",
    "X_test = test_data[features]\n",
    "y_test = test_data['result']"
   ]
  },
  {
   "cell_type": "code",
   "execution_count": 105,
   "id": "939832b1ea19c3ec",
   "metadata": {
    "ExecuteTime": {
     "end_time": "2024-04-18T13:00:26.583374Z",
     "start_time": "2024-04-18T13:00:12.626503Z"
    },
    "jupyter": {
     "outputs_hidden": false
    }
   },
   "outputs": [
    {
     "data": {
      "text/plain": [
       "{'max_depth': 15, 'n_estimators': 50}"
      ]
     },
     "execution_count": 105,
     "metadata": {},
     "output_type": "execute_result"
    }
   ],
   "source": [
    "# Find the best hyperparameters for the Random Forest model\n",
    "grid_search = GridSearchCV(estimator=clf, param_grid=param_grid, cv=5)\n",
    "grid_search.fit(X_train, y_train)\n",
    "\n",
    "grid_search.best_params_"
   ]
  },
  {
   "cell_type": "code",
   "execution_count": 106,
   "id": "cc936375078d0a7f",
   "metadata": {
    "ExecuteTime": {
     "end_time": "2024-04-18T13:14:13.037747Z",
     "start_time": "2024-04-18T13:14:12.888102Z"
    },
    "jupyter": {
     "outputs_hidden": false
    }
   },
   "outputs": [
    {
     "data": {
      "text/plain": [
       "0.5184696569920845"
      ]
     },
     "execution_count": 106,
     "metadata": {},
     "output_type": "execute_result"
    }
   ],
   "source": [
    "# Train a Random Forest model with the new features\n",
    "clf = RandomForestClassifier(random_state=1, n_estimators=50, max_depth=15)\n",
    "clf.fit(X_train, y_train)\n",
    "\n",
    "# Make predictions\n",
    "predictions = clf.predict(X_test)\n",
    "\n",
    "# Evaluate the model\n",
    "accuracy = accuracy_score(y_test, predictions)\n",
    "accuracy"
   ]
  },
  {
   "cell_type": "markdown",
   "id": "e71ed91993cb320c",
   "metadata": {
    "jupyter": {
     "outputs_hidden": false
    }
   },
   "source": [
    "The accuracy of the model has increased after adding more features\n"
   ]
  },
  {
   "cell_type": "code",
   "execution_count": 107,
   "id": "cffb0e0cd11acab",
   "metadata": {
    "ExecuteTime": {
     "end_time": "2024-04-18T13:02:58.589802Z",
     "start_time": "2024-04-18T13:02:58.573167Z"
    },
    "jupyter": {
     "outputs_hidden": false
    }
   },
   "outputs": [],
   "source": [
    "from sklearn.naive_bayes import GaussianNB\n",
    "from sklearn.linear_model import LogisticRegression\n",
    "\n",
    "models = {\n",
    "    'Random Forest': {\n",
    "        'model': RandomForestClassifier(random_state=1),\n",
    "        'params': {\n",
    "            'n_estimators': [50, 100, 200],\n",
    "            'max_depth': [5, 10, 15, 20]\n",
    "        },\n",
    "        'accuracy': ''\n",
    "    },\n",
    "    'Gaussian Naive Bayes': {\n",
    "        'model': GaussianNB(),\n",
    "        'params': {},\n",
    "        'accuracy': ''\n",
    "    },\n",
    "    'Logistic Regression': {\n",
    "        'model': LogisticRegression(random_state=1),\n",
    "        'params': {\n",
    "            'C': [0.001, 0.01, 0.1, 1, 10, 100],\n",
    "            'penalty': ['l1', 'l2']\n",
    "        },\n",
    "        'accuracy': ''\n",
    "    }\n",
    "}"
   ]
  },
  {
   "cell_type": "code",
   "execution_count": 108,
   "id": "a505dd90f88dc8e1",
   "metadata": {
    "ExecuteTime": {
     "end_time": "2024-04-18T13:03:52.678090Z",
     "start_time": "2024-04-18T13:03:25.043300Z"
    },
    "jupyter": {
     "outputs_hidden": false
    }
   },
   "outputs": [],
   "source": [
    "for model_name, model in models.items():\n",
    "    grid_search = GridSearchCV(estimator=model['model'], param_grid=model['params'], cv=5)\n",
    "    grid_search.fit(X_train, y_train)\n",
    "    \n",
    "    model['accuracy'] = grid_search.best_score_\n",
    "    model['best_params'] = grid_search.best_params_"
   ]
  },
  {
   "cell_type": "code",
   "execution_count": 109,
   "id": "b40c7e4a6600ba9c",
   "metadata": {
    "ExecuteTime": {
     "end_time": "2024-04-18T13:05:24.989088Z",
     "start_time": "2024-04-18T13:05:24.918010Z"
    },
    "jupyter": {
     "outputs_hidden": false
    }
   },
   "outputs": [
    {
     "data": {
      "text/plain": [
       "{'Random Forest': {'model': RandomForestClassifier(random_state=1),\n",
       "  'params': {'n_estimators': [50, 100, 200], 'max_depth': [5, 10, 15, 20]},\n",
       "  'accuracy': 0.50199203187251,\n",
       "  'best_params': {'max_depth': 15, 'n_estimators': 50}},\n",
       " 'Gaussian Naive Bayes': {'model': GaussianNB(),\n",
       "  'params': {},\n",
       "  'accuracy': 0.45473208844551066,\n",
       "  'best_params': {}},\n",
       " 'Logistic Regression': {'model': LogisticRegression(random_state=1),\n",
       "  'params': {'C': [0.001, 0.01, 0.1, 1, 10, 100], 'penalty': ['l1', 'l2']},\n",
       "  'accuracy': 0.5011969804248964,\n",
       "  'best_params': {'C': 0.1, 'penalty': 'l2'}}}"
      ]
     },
     "execution_count": 109,
     "metadata": {},
     "output_type": "execute_result"
    }
   ],
   "source": [
    "models"
   ]
  },
  {
   "cell_type": "code",
   "execution_count": null,
   "id": "7f8bbeced68b2c76",
   "metadata": {
    "jupyter": {
     "outputs_hidden": false
    }
   },
   "outputs": [],
   "source": [
    "# Now let's see how we can use to model to predict the outcome of a match\n",
    "# We'll use the model to predict the outcome of a hypothetical match"
   ]
  },
  {
   "cell_type": "code",
   "execution_count": 110,
   "id": "704a3ca57cfabb9d",
   "metadata": {
    "ExecuteTime": {
     "end_time": "2024-04-18T13:06:33.521702Z",
     "start_time": "2024-04-18T13:06:33.464978Z"
    },
    "jupyter": {
     "outputs_hidden": false
    }
   },
   "outputs": [],
   "source": [
    "home_team = 'Chelsea'\n",
    "away_team = 'Manchester Utd'\n",
    "referee = 'Anthony Taylor'"
   ]
  },
  {
   "cell_type": "code",
   "execution_count": 111,
   "id": "6dbd4b9b46f0c3c8",
   "metadata": {
    "ExecuteTime": {
     "end_time": "2024-04-18T13:12:34.616913Z",
     "start_time": "2024-04-18T13:12:34.612568Z"
    },
    "jupyter": {
     "outputs_hidden": false
    }
   },
   "outputs": [],
   "source": [
    "# Essentially, we need to create a row of data that represents the match we want to predict\n",
    "# We'll use the features we used to train the model\n",
    "\n",
    "\n",
    "\n",
    "# Create a row of data for the hypothetical match\n",
    "data = {\n",
    "    'Wk': [25],\n",
    "    'home_rolling_avg_goals': [1.9],\n",
    "    'away_rolling_avg_goals': [1.2],\n",
    "    'home_rolling_avg_xG': [2.1],\n",
    "    'away_rolling_avg_xG': [1.3],\n",
    "    'Day_Saturday': [1],\n",
    "    'Home_Chelsea': [1],\n",
    "    'Away_Manchester Utd': [1],\n",
    "    'Referee_Anthony Taylor': [1],\n",
    "    'Venue_Stamford Bridge': [1]\n",
    "}\n",
    "\n",
    "match = pd.DataFrame(columns=X_train.columns, data=data)\n",
    "\n",
    "match.fillna(0, inplace=True)\n",
    "\n"
   ]
  },
  {
   "cell_type": "code",
   "execution_count": null,
   "id": "b8ce7728",
   "metadata": {},
   "outputs": [],
   "source": []
  },
  {
   "cell_type": "code",
   "execution_count": 112,
   "id": "db51a310fdd53f3a",
   "metadata": {
    "ExecuteTime": {
     "end_time": "2024-04-18T13:14:36.941060Z",
     "start_time": "2024-04-18T13:14:36.916457Z"
    },
    "jupyter": {
     "outputs_hidden": false
    }
   },
   "outputs": [
    {
     "data": {
      "text/plain": [
       "array(['Home win'], dtype=object)"
      ]
     },
     "execution_count": 112,
     "metadata": {},
     "output_type": "execute_result"
    }
   ],
   "source": [
    "# Use the Random Forest model to predict the outcome of the match\n",
    "prediction = clf.predict(match)\n",
    "prediction"
   ]
  },
  {
   "cell_type": "code",
   "execution_count": null,
   "id": "f3c01cdeca8c65c1",
   "metadata": {
    "jupyter": {
     "outputs_hidden": false
    }
   },
   "outputs": [],
   "source": []
  }
 ],
 "metadata": {
  "kernelspec": {
   "display_name": "Python 3 (ipykernel)",
   "language": "python",
   "name": "python3"
  },
  "language_info": {
   "codemirror_mode": {
    "name": "ipython",
    "version": 3
   },
   "file_extension": ".py",
   "mimetype": "text/x-python",
   "name": "python",
   "nbconvert_exporter": "python",
   "pygments_lexer": "ipython3",
   "version": "3.11.5"
  }
 },
 "nbformat": 4,
 "nbformat_minor": 5
}
